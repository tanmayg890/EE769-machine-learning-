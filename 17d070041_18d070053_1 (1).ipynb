{
  "cells": [
    {
      "cell_type": "markdown",
      "metadata": {
        "deletable": false,
        "editable": false,
        "nbgrader": {
          "cell_type": "markdown",
          "checksum": "2a747369b91572b4ada4e32643e31bca",
          "grade": false,
          "grade_id": "Title",
          "locked": true,
          "schema_version": 3,
          "solution": false,
          "task": false
        },
        "id": "V-8rdU6TmK76"
      },
      "source": [
        "#**EE769 Introduction to Machine Learning**\n",
        "\n",
        "#Assignment 1: Gradient Descent, Linear Regression, and Regularization\n",
        "\n",
        "\n",
        "**Template and Instructions**\n",
        "\n",
        "\n",
        "\n",
        "1. Up to two people can team up, but only one should submit, and both should understand the entire code.\n",
        "2. Every line of code should end in a comment explaining the line\n",
        "3. It is recommended to solve the assignment in Google Colab.\n",
        "Write your roll no.s separated by commas here: 17d070041, 18d070053\n",
        "4. Write your names here: Tanmay Goyal, Kirti Agarwal\n",
        "5. There are two parts to the assignment. In the Part 1, the code format has to be strictly followed to enable auto-grading. In the second part, you can be creative.\n",
        "6. **You can discuss with other groups or refer to the internet without being penalized, but you cannot copy their code and modify it. Write every line of code and comment on your own.**"
      ]
    },
    {
      "cell_type": "markdown",
      "metadata": {
        "deletable": false,
        "editable": false,
        "nbgrader": {
          "cell_type": "markdown",
          "checksum": "cae69541658b406d495bcffe0b7c0932",
          "grade": false,
          "grade_id": "cell-aa1aa8c8181f8810",
          "locked": true,
          "schema_version": 3,
          "solution": false,
          "task": false
        },
        "id": "MDKB3K3AmK7-"
      },
      "source": [
        "#**Part 1 begins ...**\n",
        "**Instructions to be strictly followed:**\n",
        "\n",
        "1. Do not add any code cells or markdown cells until the end of this part. Especially, do not change the blocks that say \"TEST CASES, DO NOT CHANGE\"\n",
        "2. In all other cells only add code where it says \"CODE HERE\".\n",
        "3. If you encounter any raise NotImplementedError() calls you may comment them out.\n",
        "\n",
        "We cannot ensure correct grading if you change anything else, and you may be penalised for not following these instructions."
      ]
    },
    {
      "cell_type": "markdown",
      "metadata": {
        "deletable": false,
        "editable": false,
        "nbgrader": {
          "cell_type": "markdown",
          "checksum": "0ecbf8e96219ab11b7716eaae61cb7f9",
          "grade": false,
          "grade_id": "cell-1e940101f37c7af2",
          "locked": true,
          "schema_version": 3,
          "solution": false,
          "task": false
        },
        "id": "uDPguKC1mK7-"
      },
      "source": [
        "## Import Statements"
      ]
    },
    {
      "cell_type": "code",
      "execution_count": null,
      "metadata": {
        "deletable": false,
        "editable": false,
        "nbgrader": {
          "cell_type": "code",
          "checksum": "fe70877a859ee0a10e9d591778022f8a",
          "grade": false,
          "grade_id": "Import_Statements",
          "locked": true,
          "schema_version": 3,
          "solution": false,
          "task": false
        },
        "id": "3obR0azgmK7_"
      },
      "outputs": [],
      "source": [
        "import numpy as np\n",
        "import pandas as pd\n",
        "from matplotlib import pyplot as plt\n"
      ]
    },
    {
      "cell_type": "markdown",
      "metadata": {
        "deletable": false,
        "editable": false,
        "nbgrader": {
          "cell_type": "markdown",
          "checksum": "e36a214573fc40f26b45e72215d61375",
          "grade": false,
          "grade_id": "Normalize_Title",
          "locked": true,
          "schema_version": 3,
          "solution": false,
          "task": false
        },
        "id": "r6kfSJMdmK8A"
      },
      "source": [
        "## Normalize function \n",
        "\n"
      ]
    },
    {
      "cell_type": "code",
      "execution_count": null,
      "metadata": {
        "deletable": false,
        "nbgrader": {
          "cell_type": "code",
          "checksum": "42293dda356d746ac19e9b6d81106261",
          "grade": false,
          "grade_id": "Normalize_Function",
          "locked": false,
          "schema_version": 3,
          "solution": true,
          "task": false
        },
        "id": "iozyv_ZbmK8A"
      },
      "outputs": [],
      "source": [
        "def Normalize(X): # Output should be a normalized data matrix of the same dimension\n",
        "  '''\n",
        "  Normalize all columns of X using mean and standard deviation\n",
        "  '''\n",
        "  # column wise (axis=0) mean of X\n",
        "  v_means = np.mean(X, axis=0) # 1-D array of column means\n",
        "  # column wise (axis=0) std_dev of X\n",
        "  v_std_dev = np.std(X, axis=0) # 1-D array of column standard deviations\n",
        "\n",
        "  # using numpy vectorized operations\n",
        "  X_norm = (X- v_means)/v_std_dev\n",
        "\n",
        "  return X_norm\n",
        "    # raise NotImplementedError()"
      ]
    },
    {
      "cell_type": "code",
      "execution_count": null,
      "metadata": {
        "deletable": false,
        "editable": false,
        "nbgrader": {
          "cell_type": "code",
          "checksum": "7797dd606a68f028c945acd08850d108",
          "grade": true,
          "grade_id": "Normalize_Test",
          "locked": true,
          "points": 5,
          "schema_version": 3,
          "solution": false,
          "task": false
        },
        "id": "rJMgNEEWmK8A"
      },
      "outputs": [],
      "source": [
        "'''\n",
        "TEST CASES, DO NOT CHANGE\n",
        "'''\n",
        "''' case 1 - 1 dimensional array'''\n",
        "#X=np.array([[1,2,3],[3,4,5],[7,8,9]])\n",
        "X1=np.array([1,2,3])\n",
        "np.testing.assert_array_almost_equal(Normalize(X1),np.array([-1.224,  0.      ,  1.224]),decimal=3)\n",
        "''' case 2 - 2 dimensional array'''\n",
        "X2=np.array([[4,7,6],[3,8,9],[5,11,10]])\n",
        "np.testing.assert_array_almost_equal(Normalize(X2),np.array([[ 0.  , -0.980581, -1.372813],[-1.224745, -0.392232,  0.392232],[ 1.224745,  1.372813,  0.980581]]))\n",
        "''' case 3 - 1 dimensional array with float'''\n",
        "X3=np.array([5.5,6.7,3.2,6.7])\n",
        "np.testing.assert_array_almost_equal(Normalize(X3),np.array([-0.017,  0.822, -1.627,  0.822]),decimal=3)"
      ]
    },
    {
      "cell_type": "markdown",
      "metadata": {
        "deletable": false,
        "editable": false,
        "nbgrader": {
          "cell_type": "markdown",
          "checksum": "63ee774a26a0438a0b2f5ec298eac80e",
          "grade": false,
          "grade_id": "cell-66ab98f84d3c58fa",
          "locked": true,
          "schema_version": 3,
          "solution": false,
          "task": false
        },
        "id": "1tJtrJGhmK8B"
      },
      "source": [
        "## Prediction Function\n",
        "\n",
        "Given X and w, compute the predicted output. Do not forget to add 1's in X"
      ]
    },
    {
      "cell_type": "code",
      "execution_count": null,
      "metadata": {
        "deletable": false,
        "nbgrader": {
          "cell_type": "code",
          "checksum": "5976e32bd96bc4bdc2b2efd61e98441c",
          "grade": false,
          "grade_id": "Prediction",
          "locked": false,
          "schema_version": 3,
          "solution": true,
          "task": false
        },
        "id": "FEij0nSzmK8B"
      },
      "outputs": [],
      "source": [
        "def Prediction (X, w): # Output should be a prediction vector y\n",
        "  '''\n",
        "  Compute Prediction given an input datamatrix X and weight vecor w. Output y = [X 1]w where 1 is a vector of all 1s \n",
        "  '''\n",
        "  # X_bias = [X 1]\n",
        "  # np.ones to construct a column matrix(N x 1) of ones, no of rows(N) = len(X)\n",
        "  # np.concatenate to join the column matrix to X along the rows (axis = 1)\n",
        "  X_bias = np.concatenate((X, np.ones((len(X), 1))), axis=1)\n",
        "\n",
        "  # matrix dot product [X 1].w\n",
        "  y = X_bias.dot(w) # (w acts as column vector)\n",
        "\n",
        "  return y\n",
        "    \n",
        "  # raise NotImplementedError()\n"
      ]
    },
    {
      "cell_type": "code",
      "execution_count": null,
      "metadata": {
        "deletable": false,
        "editable": false,
        "nbgrader": {
          "cell_type": "code",
          "checksum": "741f088432fb2ac3c49d3c9711d5c9c5",
          "grade": true,
          "grade_id": "PredictionTest",
          "locked": true,
          "points": 5,
          "schema_version": 3,
          "solution": false,
          "task": false
        },
        "id": "EYM9Xeo4mK8C"
      },
      "outputs": [],
      "source": [
        "'''\n",
        "TEST CASES, DO NOT CHANGE\n",
        "'''\n",
        "''' case 1 - Known input output matrix and weights 1'''\n",
        "X1 = np.array([[3,2],[1,1]])\n",
        "w1 = np.array([2,1,1]) \n",
        "np.testing.assert_array_equal(Prediction(X1,w1),np.array([9,4]))\n"
      ]
    },
    {
      "cell_type": "markdown",
      "metadata": {
        "deletable": false,
        "editable": false,
        "nbgrader": {
          "cell_type": "markdown",
          "checksum": "227f6e0da2f8c6d631599c44041e3b65",
          "grade": false,
          "grade_id": "cell-6fda2832d5967072",
          "locked": true,
          "schema_version": 3,
          "solution": false,
          "task": false
        },
        "id": "d5gGaidkmK8D"
      },
      "source": [
        "## Loss Functions\n",
        "\n",
        "Code the four  loss functions:\n",
        "\n",
        "1. MSE loss is only for the error\n",
        "2. MAE loss is only for the error\n",
        "3. L2 loss is for MSE and L2 regularization, and can call MSE loss\n",
        "4. L1 loss is for MSE and L1 regularization, and can call MSE loss"
      ]
    },
    {
      "cell_type": "code",
      "execution_count": null,
      "metadata": {
        "deletable": false,
        "nbgrader": {
          "cell_type": "code",
          "checksum": "2c3e17b8559f0dfdfecdc8d242aba152",
          "grade": false,
          "grade_id": "MSE_Loss",
          "locked": false,
          "schema_version": 3,
          "solution": true,
          "task": false
        },
        "id": "He2_zmFWmK8D"
      },
      "outputs": [],
      "source": [
        "def MSE_Loss (X, t, w, lamda =0): # Ouput should be a single number\n",
        "  '''\n",
        "  lamda=0 is a default argument to prevent errors if you pass lamda to a function that doesn't need it by mistake. \n",
        "  This allows us to call all loss functions with the same input format.\n",
        "  \n",
        "  You are encouraged read about default arguments by yourself online if you're not familiar.\n",
        "  '''\n",
        "  # call Prediction and store predictions in y\n",
        "  y= Prediction(X,w)\n",
        "  # calclulate error vector\n",
        "  err = t-y\n",
        "  # calc mean of err**2 (squared error)\n",
        "  MSE = np.mean(err**2)\n",
        "  return MSE\n",
        "\n",
        "  # raise NotImplementedError()"
      ]
    },
    {
      "cell_type": "code",
      "execution_count": null,
      "metadata": {
        "deletable": false,
        "editable": false,
        "nbgrader": {
          "cell_type": "code",
          "checksum": "923a1372a401b41d6ef6b0749a49ff66",
          "grade": true,
          "grade_id": "MSE_Loss_Test",
          "locked": true,
          "points": 2,
          "schema_version": 3,
          "solution": false,
          "task": false
        },
        "id": "DcvgbrzcmK8E"
      },
      "outputs": [],
      "source": [
        "'''\n",
        "TEST CASES, DO NOT CHANGE\n",
        "'''\n",
        "''' case 1 '''\n",
        "X=np.array([[3,6,5],[4.5,6.6,6]])\n",
        "t=np.array([4,5.5])\n",
        "w=np.array([2,-1,0.5,1])\n",
        "np.testing.assert_almost_equal(MSE_Loss(X,t,w),0.53,decimal=3)\n"
      ]
    },
    {
      "cell_type": "code",
      "execution_count": null,
      "metadata": {
        "deletable": false,
        "nbgrader": {
          "cell_type": "code",
          "checksum": "b0b3b381c7a3ac5d7dfbb5df647c0d85",
          "grade": false,
          "grade_id": "MAE_Loss",
          "locked": false,
          "schema_version": 3,
          "solution": true,
          "task": false
        },
        "id": "6iRIUptemK8E"
      },
      "outputs": [],
      "source": [
        "def MAE_Loss (X, t, w, lamda = 0): # Output should be a single number\n",
        "  # call Prediction and store predictions in y\n",
        "  y= Prediction(X,w)\n",
        "  # calclulate error vector\n",
        "  err = t-y\n",
        "  # mean of absolute values of errors\n",
        "  MAE = np.mean(np.absolute(err))\n",
        "  return MAE\n",
        "    # raise NotImplementedError()"
      ]
    },
    {
      "cell_type": "code",
      "execution_count": null,
      "metadata": {
        "deletable": false,
        "editable": false,
        "nbgrader": {
          "cell_type": "code",
          "checksum": "f11d5fde7220893a9809f2954d18c5e5",
          "grade": true,
          "grade_id": "MAE_Loss_Test",
          "locked": true,
          "points": 2,
          "schema_version": 3,
          "solution": false,
          "task": false
        },
        "id": "tve6LCc9mK8E"
      },
      "outputs": [],
      "source": [
        "'''\n",
        "TEST CASES, DO NOT CHANGE\n",
        "'''\n",
        "''' case 1 '''\n",
        "X=np.array([[3,6,5],[4.5,6.6,6]])\n",
        "t=np.array([4,5.5])\n",
        "w=np.array([2,-1,0.5,1])\n",
        "np.testing.assert_almost_equal(MAE_Loss(X,t,w),0.700,decimal=3)\n"
      ]
    },
    {
      "cell_type": "code",
      "execution_count": null,
      "metadata": {
        "deletable": false,
        "nbgrader": {
          "cell_type": "code",
          "checksum": "a8309762ea56bb6b24bbbf4a19cb16bc",
          "grade": false,
          "grade_id": "L2_Loss",
          "locked": false,
          "schema_version": 3,
          "solution": true,
          "task": false
        },
        "id": "qoWj2b5_mK8E"
      },
      "outputs": [],
      "source": [
        "def L2_Loss (X, t, w, lamda): # Output should be a single number based on L2-norm (with sqrt)\n",
        "  ''' Need to specify what inputs are'''\n",
        "  # L2_Loss = MSE + lamda * (L2_norm of w[:-1](slicing to exclude bias term))\n",
        "  # np.linalg.norm calculates L2_norm by default for vectors\n",
        "  MSE_L2 = MSE_Loss(X,t,w) + lamda*np.linalg.norm(w[:-1])\n",
        "  return MSE_L2\n",
        "  # raise NotImplementedError()"
      ]
    },
    {
      "cell_type": "code",
      "execution_count": null,
      "metadata": {
        "deletable": false,
        "editable": false,
        "nbgrader": {
          "cell_type": "code",
          "checksum": "a5a409056f6797cdf8cbfab61b138c37",
          "grade": true,
          "grade_id": "L2_Loss_Test",
          "locked": true,
          "points": 2,
          "schema_version": 3,
          "solution": false,
          "task": false
        },
        "id": "FYi_q2GJmK8F"
      },
      "outputs": [],
      "source": [
        "'''\n",
        "TEST CASES, DO NOT CHANGE\n",
        "'''\n",
        "''' case 1 '''\n",
        "X=np.array([[3,6,5],[4.5,6.6,6]])\n",
        "t=np.array([4,5.5])\n",
        "w=np.array([2,-1,0.5,1])\n",
        "np.testing.assert_almost_equal(L2_Loss(X,t,w,0.5),1.675,decimal=3)\n"
      ]
    },
    {
      "cell_type": "code",
      "execution_count": null,
      "metadata": {
        "deletable": false,
        "nbgrader": {
          "cell_type": "code",
          "checksum": "1af69c123815524cdc71c72e09ece638",
          "grade": false,
          "grade_id": "L1_Loss",
          "locked": false,
          "schema_version": 3,
          "solution": true,
          "task": false
        },
        "id": "YvUKBlxjmK8F"
      },
      "outputs": [],
      "source": [
        "def L1_Loss (X, t, w, lamda): # Output should be a single number\n",
        "  # L1_Loss = MSE + lamda * (L1_norm of w[:-1](slicing to exclude bias term))\n",
        "  MSE_L1 = MSE_Loss(X,t,w) + lamda*np.linalg.norm(w[:-1], ord=1)\n",
        "  return MSE_L1\n",
        "  # raise NotImplementedError()"
      ]
    },
    {
      "cell_type": "code",
      "execution_count": null,
      "metadata": {
        "deletable": false,
        "editable": false,
        "nbgrader": {
          "cell_type": "code",
          "checksum": "40224dd69dd8e6499a67271c33701bf4",
          "grade": true,
          "grade_id": "L1_Loss_Test",
          "locked": true,
          "points": 2,
          "schema_version": 3,
          "solution": false,
          "task": false
        },
        "id": "rRZxPKwemK8F"
      },
      "outputs": [],
      "source": [
        "'''\n",
        "TEST CASES, DO NOT CHANGE\n",
        "'''\n",
        "''' case 1 '''\n",
        "X=np.array([[3,6,5],[4.5,6.6,6]])\n",
        "t=np.array([4,5.5])\n",
        "w=np.array([2,-1,0.5,1])\n",
        "np.testing.assert_almost_equal(L1_Loss(X,t,w,0.5),2.280,decimal=3)\n"
      ]
    },
    {
      "cell_type": "code",
      "execution_count": null,
      "metadata": {
        "deletable": false,
        "nbgrader": {
          "cell_type": "code",
          "checksum": "855bd2ded492e567b20f1d9705d9a97a",
          "grade": false,
          "grade_id": "NRMSE_Metric",
          "locked": false,
          "schema_version": 3,
          "solution": true,
          "task": false
        },
        "id": "TJ33VUvemK8F"
      },
      "outputs": [],
      "source": [
        "def NRMSE_Metric (X, t, w, lamda=0): # Output should be a single number. RMSE/std_dev(t)\n",
        "  # Calc standard deviation of t\n",
        "  t_std_dev = np.std(t)\n",
        "  # Calc RMSE = sqrt(MSE)\n",
        "  RMSE = np.sqrt(MSE_Loss(X,t,w))\n",
        "  # Calc NRMSE = RMSE/(standard deviation of t)\n",
        "  NRMSE = RMSE/t_std_dev\n",
        "\n",
        "  return NRMSE\n",
        "  # raise NotImplementedError()"
      ]
    },
    {
      "cell_type": "code",
      "execution_count": null,
      "metadata": {
        "deletable": false,
        "editable": false,
        "nbgrader": {
          "cell_type": "code",
          "checksum": "256795799ceb6dfa0b32ab75e8ef30c4",
          "grade": true,
          "grade_id": "NRMSE_Metric_Test",
          "locked": true,
          "points": 2,
          "schema_version": 3,
          "solution": false,
          "task": false
        },
        "id": "WE2p1bptmK8F"
      },
      "outputs": [],
      "source": [
        "'''\n",
        "TEST CASES, DO NOT CHANGE\n",
        "'''\n",
        "''' Test case 1 '''\n",
        "X=np.array([[3,6,5],[4.5,6.6,6]])\n",
        "t=np.array([4,5.5])\n",
        "w=np.array([2,-1,0.5,1])\n",
        "np.testing.assert_almost_equal(NRMSE_Metric(X,t,w,0.5),0.970,decimal=3)\n"
      ]
    },
    {
      "cell_type": "markdown",
      "metadata": {
        "deletable": false,
        "editable": false,
        "nbgrader": {
          "cell_type": "markdown",
          "checksum": "cc5df30e29bbe17d4bc7aa89210eb5cf",
          "grade": false,
          "grade_id": "Gradient_Title",
          "locked": true,
          "schema_version": 3,
          "solution": false,
          "task": false
        },
        "id": "UPdKyXoNmK8F"
      },
      "source": [
        "## Gradient function\n",
        "Each Loss function will have its own gradient function:\n",
        "\n",
        "1. MSE gradient is only for the error\n",
        "2. MAE gradient is only for the error\n",
        "3. L2 gradient is for MSE and L2 regularization, and can call MSE gradient\n",
        "4. L1 gradient is for MSE and L1 regularization, and can call MSE gradient"
      ]
    },
    {
      "cell_type": "code",
      "execution_count": null,
      "metadata": {
        "deletable": false,
        "nbgrader": {
          "cell_type": "code",
          "checksum": "0190492ee216edce701f93e697572fc1",
          "grade": false,
          "grade_id": "MSE_Gradient",
          "locked": false,
          "schema_version": 3,
          "solution": true,
          "task": false
        },
        "id": "Yaqd-wFomK8G"
      },
      "outputs": [],
      "source": [
        "def MSE_Gradient (X, t, w, lamda=0): # Output should have the same size as w\n",
        "  # Calc X_bias = [X 1] for calculations\n",
        "  X_bias = np.concatenate((X, np.ones((len(X), 1))), axis=1)\n",
        "  # MSE_grad = (2/len(X))*(w.X_bias'.X_bias - t.X_bias)\n",
        "  # (t,w act as Row vector)\n",
        "  MSE_grad = (2/len(X))*(w.dot(X_bias.transpose().dot(X_bias)) - t.dot(X_bias))\n",
        "  return MSE_grad\n",
        "  # raise NotImplementedError()"
      ]
    },
    {
      "cell_type": "code",
      "execution_count": null,
      "metadata": {
        "deletable": false,
        "editable": false,
        "nbgrader": {
          "cell_type": "code",
          "checksum": "d61466927592a8776a8bfa688472bad4",
          "grade": true,
          "grade_id": "MSE_Gradient_Test",
          "locked": true,
          "points": 3,
          "schema_version": 3,
          "solution": false,
          "task": false
        },
        "id": "t--RfDXumK8G"
      },
      "outputs": [],
      "source": [
        "'''\n",
        "TEST CASES, DO NOT CHANGE\n",
        "'''\n",
        "''' case 1 '''\n",
        "X=np.array([[3,6,5],[4.5,6.6,6]])\n",
        "t=np.array([4,5.5])\n",
        "w=np.array([2,-1,0.5,1])\n",
        "np.testing.assert_array_almost_equal(MSE_Gradient(X,t,w),np.array([2.55, 2.94, 2.9 , 0.4 ]),decimal=3)\n"
      ]
    },
    {
      "cell_type": "code",
      "execution_count": null,
      "metadata": {
        "deletable": false,
        "nbgrader": {
          "cell_type": "code",
          "checksum": "49cc4e37cafad52f41853b4b0e71f89f",
          "grade": false,
          "grade_id": "MAE_Gradient",
          "locked": false,
          "schema_version": 3,
          "solution": true,
          "task": false
        },
        "id": "A6fUTdoLmK8G"
      },
      "outputs": [],
      "source": [
        "def MAE_Gradient (X, t, w, lamda=0): # Output should have the same size as w\n",
        "  # Call Prediction() and store predictions in y\n",
        "  y = Prediction(X,w)\n",
        "  # Calc error vector\n",
        "  err = t - y\n",
        "  # Compute X_bias = [X 1] for calculations\n",
        "  X_bias = np.concatenate((X, np.ones((len(X), 1))), axis=1)\n",
        "  # MAE_grad[i] = signum(err).(-X[:,i])/len(X) \n",
        "  # MAE_grad = -signum(err).X_bias/len(X); (err act as row vector)\n",
        "  MAE_grad = -np.sign(err).dot(X_bias)/len(X)\n",
        "  return MAE_grad\n",
        "  # raise NotImplementedError()"
      ]
    },
    {
      "cell_type": "code",
      "execution_count": null,
      "metadata": {
        "deletable": false,
        "editable": false,
        "nbgrader": {
          "cell_type": "code",
          "checksum": "e1d418bf5351112ae8716877f8bb6359",
          "grade": true,
          "grade_id": "MAE_Gradient_Test",
          "locked": true,
          "points": 3,
          "schema_version": 3,
          "solution": false,
          "task": false
        },
        "id": "x70FZSfemK8G"
      },
      "outputs": [],
      "source": [
        "'''\n",
        "TEST CASES, DO NOT CHANGE\n",
        "'''\n",
        "''' case 1 '''\n",
        "X=np.array([[3,6,5],[4.5,6.6,6]])\n",
        "t=np.array([4,5.5])\n",
        "w=np.array([2,-1,0.5,1])\n",
        "np.testing.assert_array_almost_equal(MAE_Gradient(X,t,w),np.array([0.75,  0.3 ,  0.5 , 0.]),decimal=3)\n"
      ]
    },
    {
      "cell_type": "code",
      "execution_count": null,
      "metadata": {
        "deletable": false,
        "nbgrader": {
          "cell_type": "code",
          "checksum": "595829c0dd17df55a03d346fac507b4a",
          "grade": false,
          "grade_id": "L2_Gradient",
          "locked": false,
          "schema_version": 3,
          "solution": true,
          "task": false
        },
        "id": "sih6A1IImK8G"
      },
      "outputs": [],
      "source": [
        "def L2_Gradient (X, t, w, lamda): # Output should have the same size as w\n",
        "  # store MSE_Gradient in MSE_grad\n",
        "  MSE_grad = MSE_Gradient(X,t,w)\n",
        "  # Calc L2_regulizer gradient = lamda*(1/L2_norm(w[:-1]))*np.append(w[:-1],0)\n",
        "  # np.append(w[:-1],0) since L2_norm gradient wrt bias weight is zero\n",
        "  L2_reg_grad = (lamda/np.linalg.norm(w[:-1]))*np.append(w[:-1], 0)\n",
        "  # calc L2_gradient = MSE_grad + L2_reg_grad\n",
        "  L2_grad = MSE_grad + L2_reg_grad\n",
        "  return L2_grad\n",
        "  # raise NotImplementedError()"
      ]
    },
    {
      "cell_type": "code",
      "execution_count": null,
      "metadata": {
        "deletable": false,
        "editable": false,
        "nbgrader": {
          "cell_type": "code",
          "checksum": "f292b42c3389b24e369234a7210b87bb",
          "grade": true,
          "grade_id": "L2_Gradient_Test",
          "locked": true,
          "points": 3,
          "schema_version": 3,
          "solution": false,
          "task": false
        },
        "id": "yv7rChsfmK8G"
      },
      "outputs": [],
      "source": [
        "'''\n",
        "TEST CASES, DO NOT CHANGE\n",
        "'''\n",
        "''' case 1 '''\n",
        "X=np.array([[3,6,5],[4.5,6.6,6]])\n",
        "t=np.array([4,5.5])\n",
        "w=np.array([2,-1,0.5,1])\n",
        "np.testing.assert_array_almost_equal(L2_Gradient(X,t,w,0.5),np.array([2.986, 2.721, 3.009 , 0.4 ]),decimal=3)\n"
      ]
    },
    {
      "cell_type": "code",
      "execution_count": null,
      "metadata": {
        "deletable": false,
        "nbgrader": {
          "cell_type": "code",
          "checksum": "141736f1feda5aa225e008d749f0015c",
          "grade": false,
          "grade_id": "L1_Gradient",
          "locked": false,
          "schema_version": 3,
          "solution": true,
          "task": false
        },
        "id": "1nkOYNPpmK8H"
      },
      "outputs": [],
      "source": [
        "def L1_Gradient (X, t, w, lamda): # Output should have the same size as w\n",
        "  # store MSE_Gradient in MSE_grad\n",
        "  MSE_grad = MSE_Gradient(X,t,w)\n",
        "  # Calc L1_regulizer gradient = lamda* sign(np.append(w[:-1],0))\n",
        "  # np.append(w[:-1],0) since L1_norm gradient wrt bias weight is zero\n",
        "  L1_reg_grad = lamda*np.sign(np.append(w[:-1], 0))\n",
        "  # calc L1_gradient = MSE_grad + L1_reg_grad\n",
        "  L1_grad = MSE_grad + L1_reg_grad\n",
        "  return L1_grad\n",
        "  # raise NotImplementedError()"
      ]
    },
    {
      "cell_type": "code",
      "execution_count": null,
      "metadata": {
        "deletable": false,
        "editable": false,
        "nbgrader": {
          "cell_type": "code",
          "checksum": "9097b61320e470f429a9f46c7da0b219",
          "grade": true,
          "grade_id": "L1_Gradient_Test",
          "locked": true,
          "points": 3,
          "schema_version": 3,
          "solution": false,
          "task": false
        },
        "id": "fNrXkyLYmK8H"
      },
      "outputs": [],
      "source": [
        "'''\n",
        "TEST CASES, DO NOT CHANGE\n",
        "'''\n",
        "''' case 1 '''\n",
        "X=np.array([[3,6,5],[4.5,6.6,6]])\n",
        "t=np.array([4,5.5])\n",
        "w=np.array([2,-1,0.5,1])\n",
        "np.testing.assert_array_almost_equal(L1_Gradient(X,t,w,0.5),np.array([3.05, 2.44, 3.4 , 0.4 ]),decimal=3)\n"
      ]
    },
    {
      "cell_type": "markdown",
      "metadata": {
        "deletable": false,
        "editable": false,
        "nbgrader": {
          "cell_type": "markdown",
          "checksum": "1980a2f831b5e1ddc9b510c22ef502c7",
          "grade": false,
          "grade_id": "Gradient_Desc_Title",
          "locked": true,
          "schema_version": 3,
          "solution": false,
          "task": false
        },
        "id": "KnXOY_0EmK8H"
      },
      "source": [
        "## Gradient Descent Function\n"
      ]
    },
    {
      "cell_type": "code",
      "execution_count": null,
      "metadata": {
        "deletable": false,
        "nbgrader": {
          "cell_type": "code",
          "checksum": "78cdd5ffa4590c10e19281722ccd537f",
          "grade": false,
          "grade_id": "Gradient_Descent",
          "locked": false,
          "schema_version": 3,
          "solution": true,
          "task": false
        },
        "id": "uWIR-s1WmK8H"
      },
      "outputs": [],
      "source": [
        "def Gradient_Descent (X, X_val, t, t_val, w, lamda, max_iter, epsilon, lr, lossfunc, gradfunc): # See output format in 'return' statement\n",
        "  # initialize count -> no of iterations as 0\n",
        "  # delta -> current loss - loss after one step\n",
        "  # initialize delta as anything>=epsilon for first iteration\n",
        "  count, delta = 0, epsilon\n",
        "  # w_pre -> current weight vector\n",
        "  # w_post -> weight vector after one step\n",
        "  # initialize w_pre with given weight vector w\n",
        "  w_pre = w\n",
        "  # calc loss_pre for w_pre\n",
        "  loss_pre = lossfunc(X, t, w_pre, lamda)\n",
        "  # start the while loop for further iterations of gradient descent\n",
        "  # loop breaks if count exceeds max_iter\n",
        "  # or delta is less than epsilon\n",
        "  while (count <= max_iter) and  (delta >= epsilon):\n",
        "    # perform one step of gradient descent\n",
        "    # w_post = w_pre - learning_rate * (gradient at w_pre)\n",
        "    w_post = w_pre - lr*gradfunc(X, t, w_pre, lamda)\n",
        "    # calc loss_post as loss for w_post\n",
        "    loss_post = lossfunc(X, t, w_post, lamda)\n",
        "    # update delta as loss_pre - loss_post\n",
        "    delta = abs(loss_pre - loss_post)\n",
        "    # update variables for next iteration\n",
        "    # w_post will now be w_pre\n",
        "    w_pre = w_post\n",
        "    # loss_post will now be loss_pre\n",
        "    loss_pre = loss_post\n",
        "    # increment no of iterations by 1\n",
        "    count += 1\n",
        "  \n",
        "\n",
        "  # w_pre now holds the final weight vector\n",
        "  # assign w_pre to w_final\n",
        "  w_final = w_pre\n",
        "  # Calculate training loss with w_final\n",
        "  train_loss_final = lossfunc(X, t, w_final, lamda)\n",
        "  # Calculate validation loss with w_final\n",
        "  validation_loss_final = lossfunc(X_val, t_val, w_final, lamda)\n",
        "  # Calculate validation NRMSE with w_final\n",
        "  validation_NRMSE = NRMSE_Metric(X_val, t_val, w_final)\n",
        "    \n",
        "  return w_final, train_loss_final, validation_loss_final, validation_NRMSE #You should return variables structured like this.\n",
        "  # raise NotImplementedError() "
      ]
    },
    {
      "cell_type": "code",
      "execution_count": null,
      "metadata": {
        "deletable": false,
        "editable": false,
        "nbgrader": {
          "cell_type": "code",
          "checksum": "15a67336bed20a51f33820bf615186e8",
          "grade": true,
          "grade_id": "Gradient_Check",
          "locked": true,
          "points": 20,
          "schema_version": 3,
          "solution": false,
          "task": false
        },
        "id": "ZO0r2j4GmK8H"
      },
      "outputs": [],
      "source": [
        "'''\n",
        "TEST CASES, DO NOT CHANGE\n",
        "'''\n",
        "X=np.array([[23,24],[1,2]])\n",
        "t=np.array([4,5])\n",
        "X_val=np.array([[3,4],[5,6]])\n",
        "t_val=np.array([3,4])\n",
        "w=np.array([3,2,1])\n",
        "results =Gradient_Descent (X, X_val, t, t_val, w, 0.1, 100, 1e-10, 1e-5, L2_Loss,L2_Gradient) \n",
        "np.testing.assert_allclose([results[1]],[697.919],rtol =0.05)\n",
        "np.testing.assert_allclose([results[2]],[20],atol=5) # we expect around 17.5  but some students got 24 which we will also accept\n",
        "#Instructor Values of results[1] and results [2] are 697.919 and 17.512 respectively"
      ]
    },
    {
      "cell_type": "markdown",
      "metadata": {
        "deletable": false,
        "editable": false,
        "nbgrader": {
          "cell_type": "markdown",
          "checksum": "24f327aa6a14590077f907ee8323724c",
          "grade": false,
          "grade_id": "PseudoInvTitle",
          "locked": true,
          "schema_version": 3,
          "solution": false,
          "task": false
        },
        "id": "BVVUIYRImK8H"
      },
      "source": [
        "## Pseudo Inverse Method\n",
        "\n",
        "You have to implement a slightly more advanced version, with L2 penalty:\n",
        "\n",
        "w = (X' X + lambda I)^(-1) X' t.\n",
        "\n",
        "See, for example: Section 2 of https://web.mit.edu/zoya/www/linearRegression.pdf\n",
        "\n",
        "Here, the column of 1's in assumed to be included in X"
      ]
    },
    {
      "cell_type": "code",
      "execution_count": null,
      "metadata": {
        "deletable": false,
        "nbgrader": {
          "cell_type": "code",
          "checksum": "928c9b105c4bcf3c132c7520a140d509",
          "grade": false,
          "grade_id": "PseudoInv",
          "locked": false,
          "schema_version": 3,
          "solution": true,
          "task": false
        },
        "id": "JdPbK8yCmK8H"
      },
      "outputs": [],
      "source": [
        "def Pseudo_Inverse (X, t, lamda): # Output should be weight vector\n",
        "  # compute X_bias = [X 1] for calculations\n",
        "  X_bias = np.concatenate((X, np.ones((len(X), 1))), axis=1)\n",
        "  # compute transpose of X_bias\n",
        "  X_biasT = X_bias.transpose()\n",
        "  # compute lamda * I, I -> Identity matrix of order X_bias.shape[1]\n",
        "  # since X_biasT.X_bias is a square matrix with order X_bias.shape[1]\n",
        "  lamda_I = lamda*np.eye(X_bias.shape[1])\n",
        "  # Calculate pseudo_inv with L2 penalty as (X_biasT.X_bias + lamda*I)^(-1).X_biasT\n",
        "  pseudo_inv_L2 = np.linalg.inv(X_biasT.dot(X_bias) + lamda_I).dot(X_biasT)\n",
        "  # calculate w as pseudo_inv_L2.t\n",
        "  # (t acts as a column vector here)\n",
        "  w = pseudo_inv_L2.dot(t)\n",
        "  \n",
        "  return w\n",
        "  # raise NotImplementedError()"
      ]
    },
    {
      "cell_type": "code",
      "execution_count": null,
      "metadata": {
        "deletable": false,
        "editable": false,
        "nbgrader": {
          "cell_type": "code",
          "checksum": "a5178b8280650ed5d1d55dc6bbb38a29",
          "grade": true,
          "grade_id": "PseudoInvTest",
          "locked": true,
          "points": 10,
          "schema_version": 3,
          "solution": false,
          "task": false
        },
        "id": "FyMYFIAjmK8H"
      },
      "outputs": [],
      "source": [
        "'''\n",
        "TEST CASES, DO NOT CHANGE\n",
        "'''\n",
        "''' case 1 - other data'''\n",
        "X=np.array([[3,6,5],[4.5,6.6,6]])\n",
        "t=np.array([4,5.5])\n",
        "np.testing.assert_array_almost_equal(Pseudo_Inverse(X,t,0.5),np.array([ 0.491,  0.183,  0.319, -0.002]),decimal=3)"
      ]
    },
    {
      "cell_type": "markdown",
      "metadata": {
        "deletable": false,
        "editable": false,
        "nbgrader": {
          "cell_type": "markdown",
          "checksum": "8748fcc0dc96df6e7bb48a4e315927d3",
          "grade": false,
          "grade_id": "cell-e0fa02d7eecfb851",
          "locked": true,
          "schema_version": 3,
          "solution": false,
          "task": false
        },
        "id": "89eVtrJJmK8I"
      },
      "source": [
        "#... Part 1 ends Below this you be more creative. Just comment out the lines where you save files (e.g. test predictions)."
      ]
    },
    {
      "cell_type": "markdown",
      "metadata": {
        "deletable": false,
        "editable": false,
        "nbgrader": {
          "cell_type": "markdown",
          "checksum": "c9047f75587bfee6b7b0a4b244efc7fa",
          "grade": false,
          "grade_id": "cell-10f0d275f5cd36f6",
          "locked": true,
          "schema_version": 3,
          "solution": false,
          "task": false
        },
        "id": "SG3arlRFmK8I"
      },
      "source": [
        "#**Part 2 begins ...**\n",
        "\n",
        "**Instructions to be loosely followed (except number 8):**\n",
        "\n",
        "1. Add more code and text cells between this and the last cell.\n",
        "2. Read training data from: https://www.ee.iitb.ac.in/~asethi/Dump/TempTrain.csv only. Do not use a local copy of the dataset.\n",
        "3. Find the best lamda for **MSE+lamda*L2(w)** loss function. Plot training and validation RMSE vs. 1/lamda (1/lamda represents model complexity). Print weights, validation RMSE, validation NRMSE for the best lamda.\n",
        "4. Find the best lamda for **MSE+lamda*L1(w)** loss function. Plot training and validation RMSE vs. 1/lamda (1/lamda represents model complexity). Print weights, validation RMSE, validation NRMSE for the best lamda.\n",
        "5. Find the best lamda for the **pseudo-inv method**. Plot training and validation RMSE vs. 1/lamda (1/lamda represents model complexity). Print weights, validation RMSE, validation NRMSE for the best lamda.\n",
        "6. Write your observations and conclusions.\n",
        "7. Read test data from: https://www.ee.iitb.ac.in/~asethi/Dump/TempTest.csv only. Do not use a local copy of the dataset. Predict its dependent (missing last column) using the model with the lowest MSE, RMSE, or NRMSE. Save it as a file RollNo1_RollNo2_1.csv.\n",
        "8. **Disable the prediction csv file saving statement and submit this entire .ipynb file, .py file, and .csv file as a single RollNo1_RollNo2_1.zip file.**\n"
      ]
    },
    {
      "cell_type": "markdown",
      "source": [
        "## Data Reading and pre-processing"
      ],
      "metadata": {
        "id": "lx-9YTzflI2S"
      }
    },
    {
      "cell_type": "code",
      "source": [
        "# read training data from the given link\n",
        "df_train = pd.read_csv(\"https://www.ee.iitb.ac.in/~asethi/Dump/TempTrain.csv\")"
      ],
      "metadata": {
        "id": "5vCBrOti-1st"
      },
      "execution_count": null,
      "outputs": []
    },
    {
      "cell_type": "code",
      "source": [
        "# separate the independent variables [first 17 columns]\n",
        "# and the target (dependent) variable [last column]\n",
        "x = np.array(df_train.iloc[:,:-1])\n",
        "t = np.array(df_train.iloc[:,-1])\n",
        "\n",
        "# normalize the data matrix of independent variables\n",
        "x_norm = Normalize(x)"
      ],
      "metadata": {
        "id": "NZWOMiXD-1pP"
      },
      "execution_count": null,
      "outputs": []
    },
    {
      "cell_type": "code",
      "source": [
        "# 85-15 split for training-validation\n",
        "# for np.split(), 2nd argument is a list of points\n",
        "# at which the split has to be done, we only need one split\n",
        "# int(0.85*len(x_raw)) refers to the row index roughly 85% of the total no. of rows\n",
        "x_train, x_val = np.split(x_norm, [int(0.85*len(x))])\n",
        "t_train, t_val = np.split(t, [int(0.85*len(x))])"
      ],
      "metadata": {
        "id": "zUcDrXdT-1mq"
      },
      "execution_count": null,
      "outputs": []
    },
    {
      "cell_type": "markdown",
      "source": [
        "* Now we have separate training(x_train, t_train) and validation(x_val, t_val) dataset.\n",
        "* Proceed ahead for training and validation to find the best set of parameters w. "
      ],
      "metadata": {
        "id": "WGCUz8OmlnLK"
      }
    },
    {
      "cell_type": "markdown",
      "source": [
        "# Training and Validation\n",
        "\n",
        "---\n",
        "\n",
        "Goal : To find an optimum weight vector (model) with least validation RMSE.\n",
        "\n",
        "Process : \n",
        "\n",
        "*   To train the Linear regression model for L2 and L1 regularized loss functions.\n",
        "*   Optimization (Parameter Tuning) problem boiled down to minimizing the loss functions. We use Gradient descent algorithm for minimization.\n",
        "*   Then we tune the hyperparameter lamda by literally putting to test the optimum w obtained from various lamda against the validation data and plotting the RMSE vs 1/lamda curve. \n",
        "*   For both  L1 and L2 loss, we obtain the best lamda and thus corresponding optimum solutions for the weight vector, i.e. the model parameters.\n",
        "*   Then we use the pseudo inverse method, i.e., the analytical solution for minima of L2 loss functions with respect to w. This is in contrast to using the gradient descent algorithm for finding the minima.\n",
        "* Again we tune the hyperparameter lamda to obtain the best performing model.\n",
        "* Now out of all the 3 optimal model choices, we choose the model with best validation RMSE and make predictions given the test data.\n",
        "* These are then saved into a csv file."
      ],
      "metadata": {
        "id": "1St5BGPta4Sx"
      }
    },
    {
      "cell_type": "markdown",
      "source": [
        "## Optimal model parameters using ***L2 Loss***\n",
        "---\n",
        "\n",
        "\n",
        "* Optimization problem -> ***minimize the loss function.***\n",
        "* Optimization algorithm -> ***Gradient Descent***"
      ],
      "metadata": {
        "id": "K55tzl25nJZ8"
      }
    },
    {
      "cell_type": "markdown",
      "source": [
        "### Setting up **Gradient Descent** (**max_iter, epsilon and lr**)\n",
        "* Follwing we perform an experiment to fix upon the stopping criteria, max no. of iterations and learning rate.\n",
        "* **Rough Design** : \n",
        "* Three values of lamda, 0, 0.5 and 1 will be used to finalize the parameters.\n",
        "* Start with conducting the experiment for lamda = 0, take max_iter = 1000 and epsilon = 1e-5 to start with\n",
        "* vary the learning rate, epsilon, max_iter to obtain a nicely performing gradient descent optimizer.\n",
        "* Repeat the same for lamda =1, then lamda = 0.5\n",
        "* Validate that the final parameter choices work well for all three values of lamda"
      ],
      "metadata": {
        "id": "hECBMnb9wexz"
      }
    },
    {
      "cell_type": "markdown",
      "source": [
        "#### Modify the original Gradient Descent function\n",
        "Making a slightly modified copy of the original gradient descent function for better analysis.\n",
        "* Validation data is removed form input\n",
        "* Output is modified to print number of iterations, absolute change in loss in the last iteration and the final training loss."
      ],
      "metadata": {
        "id": "MqdqPlfEYavJ"
      }
    },
    {
      "cell_type": "code",
      "source": [
        "def Gradient_Descent_modified (X, t, w, lamda, max_iter, epsilon, lr, lossfunc, gradfunc): # See output format in 'return' statement\n",
        "  # input/output modified\n",
        "  # rest same as original grad descent function\n",
        "  # for comments and description refer to original grad descent\n",
        "  # implementation in part 1\n",
        "\n",
        "  count, delta = 0, epsilon\n",
        "  w_pre = w\n",
        "  loss_pre = lossfunc(X, t, w_pre, lamda)\n",
        "\n",
        "  while (count <= max_iter) and  (delta >= epsilon):\n",
        "    w_post = w_pre - lr*gradfunc(X, t, w_pre, lamda)\n",
        "    loss_post = lossfunc(X, t, w_post, lamda)\n",
        "    delta = abs(loss_pre - loss_post)\n",
        "    w_pre = w_post\n",
        "    loss_pre = loss_post\n",
        "    count += 1\n",
        "  \n",
        "  w_final = w_pre\n",
        "  train_loss_final = loss_post\n",
        "  # print delta, count and final loss\n",
        "  print('count = ', count-1)\n",
        "  print('delta = ', delta)\n",
        "  print('minimum loss = ', loss_post,'\\n')\n",
        "\n",
        "  return None"
      ],
      "metadata": {
        "id": "MMRKGdCNxACQ"
      },
      "execution_count": null,
      "outputs": []
    },
    {
      "cell_type": "markdown",
      "source": [
        "### Experiments for Gradient Descent for L2 Loss"
      ],
      "metadata": {
        "id": "Okydr_hnq4eM"
      }
    },
    {
      "cell_type": "code",
      "source": [
        "# randomly initialize w as w_init\n",
        "# from uniform distribution over [0,1) \n",
        "w_init = np.random.rand(x.shape[1]+1)"
      ],
      "metadata": {
        "id": "ikQcGgYFb83T"
      },
      "execution_count": null,
      "outputs": []
    },
    {
      "cell_type": "code",
      "source": [
        "lr_arr = [0.05, 0.1, 0.13, 0.15, 0.17, 0.19, 0.22]\n",
        "for lr in lr_arr:\n",
        "  Gradient_Descent_modified (x_train, t_train, w_init, 0, 1000, 1e-5, lr, L2_Loss, L2_Gradient)"
      ],
      "metadata": {
        "colab": {
          "base_uri": "https://localhost:8080/"
        },
        "id": "n3-C0BwL-1kF",
        "outputId": "cf9f19c7-5506-4801-8801-9d2750f8636f"
      },
      "execution_count": null,
      "outputs": [
        {
          "output_type": "stream",
          "name": "stdout",
          "text": [
            "count =  417\n",
            "delta =  9.979740802412707e-06\n",
            "minimum loss =  1.9559830424629316 \n",
            "\n",
            "count =  236\n",
            "delta =  9.837796150380385e-06\n",
            "minimum loss =  1.9555763144439489 \n",
            "\n",
            "count =  189\n",
            "delta =  9.9133075728286e-06\n",
            "minimum loss =  1.9554868104001957 \n",
            "\n",
            "count =  168\n",
            "delta =  9.689812418223198e-06\n",
            "minimum loss =  1.955439763442426 \n",
            "\n",
            "count =  151\n",
            "delta =  9.678936210288924e-06\n",
            "minimum loss =  1.955408706243508 \n",
            "\n",
            "count =  137\n",
            "delta =  9.797114103315963e-06\n",
            "minimum loss =  1.9553868344510497 \n",
            "\n",
            "count =  1000\n",
            "delta =  5.93538096426019e+115\n",
            "minimum loss =  2.5450451973919326e+116 \n",
            "\n"
          ]
        }
      ]
    },
    {
      "cell_type": "markdown",
      "source": [
        "Observing the trend in the minimum loss functions, safe choice for learning rate seems to be 0.17.\n",
        "\n",
        "Now we will decrease epsilon to improve the descent even further"
      ],
      "metadata": {
        "id": "J0RVDDXde9TC"
      }
    },
    {
      "cell_type": "code",
      "source": [
        "# learning rate = 0.19\n",
        "eps_arr = [1e-5, 1e-6, 1e-7, 1e-8, 1e-9, 1e-10]\n",
        "for eps in eps_arr:\n",
        "  Gradient_Descent_modified (x_train, t_train, w_init, 0, 1000, eps, 0.17, L2_Loss, L2_Gradient)"
      ],
      "metadata": {
        "colab": {
          "base_uri": "https://localhost:8080/"
        },
        "id": "lbFAwR0ze5og",
        "outputId": "cdb095fe-b836-4792-ceb4-0c58b345b46e"
      },
      "execution_count": null,
      "outputs": [
        {
          "output_type": "stream",
          "name": "stdout",
          "text": [
            "count =  151\n",
            "delta =  9.678936210288924e-06\n",
            "minimum loss =  1.955408706243508 \n",
            "\n",
            "count =  205\n",
            "delta =  9.89249670402259e-07\n",
            "minimum loss =  1.9552074217644515 \n",
            "\n",
            "count =  260\n",
            "delta =  9.724915939202106e-08\n",
            "minimum loss =  1.9551867162204886 \n",
            "\n",
            "count =  314\n",
            "delta =  9.974524317613032e-09\n",
            "minimum loss =  1.9551846900252234 \n",
            "\n",
            "count =  369\n",
            "delta =  9.808269751943044e-10\n",
            "minimum loss =  1.9551844812221475 \n",
            "\n",
            "count =  424\n",
            "delta =  9.644773868444645e-11\n",
            "minimum loss =  1.955184460689861 \n",
            "\n"
          ]
        }
      ]
    },
    {
      "cell_type": "markdown",
      "source": [
        "Apparently, there is no significant improvement in performance for lower values of epsilon and considering the increase in number of iterations for lower epsilon, \n",
        "a good and safe choice can be 1e-8"
      ],
      "metadata": {
        "id": "NdqSVh5wf2Ib"
      }
    },
    {
      "cell_type": "markdown",
      "source": [
        "So far, max_iter = 1000, epsilon = 1e-8, learning rate = 0.17. Now we test and tweak this for lamda = 1"
      ],
      "metadata": {
        "id": "cqAXwT8Mgu7R"
      }
    },
    {
      "cell_type": "code",
      "source": [
        "Gradient_Descent_modified (x_train, t_train, w_init, 1, 1000, 1e-8, 0.17, L2_Loss, L2_Gradient)"
      ],
      "metadata": {
        "colab": {
          "base_uri": "https://localhost:8080/"
        },
        "id": "OI7Cafd-xj1E",
        "outputId": "2b4e320b-50dc-4382-8584-ca7fc8c03247"
      },
      "execution_count": null,
      "outputs": [
        {
          "output_type": "stream",
          "name": "stdout",
          "text": [
            "count =  51\n",
            "delta =  7.926496792265425e-09\n",
            "minimum loss =  3.5977930000677656 \n",
            "\n"
          ]
        }
      ]
    },
    {
      "cell_type": "code",
      "source": [
        "# try for a variety of learning rates\n",
        "lr_arr = [0.25, 0.22, 0.19, 0.17, 0.15, 0.1, 0.05, 0.01]\n",
        "for lr in lr_arr:\n",
        "  Gradient_Descent_modified (x_train, t_train, w_init, 1, 1000, 1e-8, lr, L2_Loss, L2_Gradient)"
      ],
      "metadata": {
        "colab": {
          "base_uri": "https://localhost:8080/"
        },
        "id": "w523-cFRiSsJ",
        "outputId": "a5233b19-ea69-4ca4-c074-ca5c32941383"
      },
      "execution_count": null,
      "outputs": [
        {
          "output_type": "stream",
          "name": "stderr",
          "text": [
            "/usr/local/lib/python3.7/dist-packages/numpy/core/_methods.py:160: RuntimeWarning: overflow encountered in reduce\n",
            "  ret = umr_sum(arr, axis, dtype, out, keepdims)\n",
            "/usr/local/lib/python3.7/dist-packages/ipykernel_launcher.py:26: RuntimeWarning: invalid value encountered in double_scalars\n"
          ]
        },
        {
          "output_type": "stream",
          "name": "stdout",
          "text": [
            "count =  970\n",
            "delta =  nan\n",
            "minimum loss =  inf \n",
            "\n",
            "count =  1000\n",
            "delta =  1.5717758817721808e+116\n",
            "minimum loss =  6.739652742373488e+116 \n",
            "\n",
            "count =  167\n",
            "delta =  9.487476582137333e-09\n",
            "minimum loss =  3.597793064304 \n",
            "\n",
            "count =  51\n",
            "delta =  7.926496792265425e-09\n",
            "minimum loss =  3.5977930000677656 \n",
            "\n",
            "count =  58\n",
            "delta =  7.65713270567403e-09\n",
            "minimum loss =  3.597793002594001 \n",
            "\n",
            "count =  86\n",
            "delta =  9.311230897424139e-09\n",
            "minimum loss =  3.5977930228761554 \n",
            "\n",
            "count =  169\n",
            "delta =  9.05446517762698e-09\n",
            "minimum loss =  3.5977930678073164 \n",
            "\n",
            "count =  773\n",
            "delta =  9.97921034695537e-09\n",
            "minimum loss =  3.59779347732478 \n",
            "\n"
          ]
        }
      ]
    },
    {
      "cell_type": "markdown",
      "source": [
        "Observation : Observe the final minimum loss. Increasing the learning rate decreases the performance, while decreasing the learning rate doesn't cause any significant change in the performance. "
      ],
      "metadata": {
        "id": "BijvsXPTyGPQ"
      }
    },
    {
      "cell_type": "markdown",
      "source": [
        "Now Let's see if there is any improvement if we increase number of iterations to 5000"
      ],
      "metadata": {
        "id": "T7wNM2jo0o2Y"
      }
    },
    {
      "cell_type": "code",
      "source": [
        "# increase max_iter to 5000\n",
        "lr_arr = [0.22, 0.19, 0.17, 0.15, 0.1, 0.05, 0.01]\n",
        "for lr in lr_arr:\n",
        "  Gradient_Descent_modified (x_train, t_train, w_init, 1, 5000, 1e-8, lr, L2_Loss, L2_Gradient)"
      ],
      "metadata": {
        "colab": {
          "base_uri": "https://localhost:8080/"
        },
        "id": "P8vIKzjJk_NQ",
        "outputId": "08ae7c85-40eb-4465-9239-60e86335dabb"
      },
      "execution_count": null,
      "outputs": [
        {
          "output_type": "stream",
          "name": "stderr",
          "text": [
            "/usr/local/lib/python3.7/dist-packages/numpy/core/_methods.py:160: RuntimeWarning: overflow encountered in reduce\n",
            "  ret = umr_sum(arr, axis, dtype, out, keepdims)\n",
            "/usr/local/lib/python3.7/dist-packages/ipykernel_launcher.py:26: RuntimeWarning: invalid value encountered in double_scalars\n"
          ]
        },
        {
          "output_type": "stream",
          "name": "stdout",
          "text": [
            "count =  2629\n",
            "delta =  nan\n",
            "minimum loss =  inf \n",
            "\n",
            "count =  167\n",
            "delta =  9.487476582137333e-09\n",
            "minimum loss =  3.597793064304 \n",
            "\n",
            "count =  51\n",
            "delta =  7.926496792265425e-09\n",
            "minimum loss =  3.5977930000677656 \n",
            "\n",
            "count =  58\n",
            "delta =  7.65713270567403e-09\n",
            "minimum loss =  3.597793002594001 \n",
            "\n",
            "count =  86\n",
            "delta =  9.311230897424139e-09\n",
            "minimum loss =  3.5977930228761554 \n",
            "\n",
            "count =  169\n",
            "delta =  9.05446517762698e-09\n",
            "minimum loss =  3.5977930678073164 \n",
            "\n",
            "count =  773\n",
            "delta =  9.97921034695537e-09\n",
            "minimum loss =  3.59779347732478 \n",
            "\n"
          ]
        }
      ]
    },
    {
      "cell_type": "markdown",
      "source": [
        "There is no improvement by increasing the max_iter to 5000 for any learning rate. Clearly, our choice for learning rate = 0.17 works very well for lamda=1.\n",
        " \n",
        "Let's try a lower value of max_iter, say 500. Maybe we can make do with lower value of max_iter, this will make training faster"
      ],
      "metadata": {
        "id": "JREQ7QnjlKIw"
      }
    },
    {
      "cell_type": "code",
      "source": [
        "# max_iter = 500\n",
        "Gradient_Descent_modified (x_train, t_train, w_init, 1, 500, 1e-8, 0.17, L2_Loss, L2_Gradient)"
      ],
      "metadata": {
        "colab": {
          "base_uri": "https://localhost:8080/"
        },
        "id": "Yn9xcGxT4p_b",
        "outputId": "0bc87901-869c-4c72-e6e2-202d8c7df336"
      },
      "execution_count": null,
      "outputs": [
        {
          "output_type": "stream",
          "name": "stdout",
          "text": [
            "count =  51\n",
            "delta =  7.926496792265425e-09\n",
            "minimum loss =  3.5977930000677656 \n",
            "\n"
          ]
        }
      ]
    },
    {
      "cell_type": "markdown",
      "source": [
        "There is no significant depreciation in performance. So lets fix on max_iter=500, epsilon= 1e-8, and lr= 0.17\n",
        "\n",
        "Let's validate this new setting for lamda=0"
      ],
      "metadata": {
        "id": "I8c-Q_pw1ZNj"
      }
    },
    {
      "cell_type": "code",
      "source": [
        "Gradient_Descent_modified (x_train, t_train, w_init, 0, 500, 1e-8, 0.17, L2_Loss, L2_Gradient)"
      ],
      "metadata": {
        "colab": {
          "base_uri": "https://localhost:8080/"
        },
        "id": "ZBqIgTUw13uY",
        "outputId": "f3b0b5a4-9c05-45cb-cd32-e7605d4e3d91"
      },
      "execution_count": null,
      "outputs": [
        {
          "output_type": "stream",
          "name": "stdout",
          "text": [
            "count =  319\n",
            "delta =  9.840431136609595e-09\n",
            "minimum loss =  1.955184686912187 \n",
            "\n"
          ]
        }
      ]
    },
    {
      "cell_type": "markdown",
      "source": [
        "It works as the minimum loss is almost same as best obtained before. Now as the final step, let's validate our parameters by repeating the above experiment for a middle value of lamda say lamda = 0.5"
      ],
      "metadata": {
        "id": "pCPOtSRE19Dn"
      }
    },
    {
      "cell_type": "code",
      "source": [
        "# repeat the same for lamda = 0.5\n",
        "lr_arr = [0.22, 0.19, 0.17, 0.15, 0.1, 0.05, 0.01]\n",
        "for lr in lr_arr:\n",
        "  Gradient_Descent_modified (x_train, t_train, w_init, 0.5, 1000, 1e-8, lr, L2_Loss, L2_Gradient)"
      ],
      "metadata": {
        "colab": {
          "base_uri": "https://localhost:8080/"
        },
        "id": "i7Mt5DJjj8gK",
        "outputId": "61d608b2-23b2-424f-8103-02b8e413d7d4"
      },
      "execution_count": null,
      "outputs": [
        {
          "output_type": "stream",
          "name": "stdout",
          "text": [
            "count =  1000\n",
            "delta =  8.852450190821168e+115\n",
            "minimum loss =  3.795861795386697e+116 \n",
            "\n",
            "count =  88\n",
            "delta =  8.812418794690302e-09\n",
            "minimum loss =  2.8758435174433457 \n",
            "\n",
            "count =  91\n",
            "delta =  9.093730213294293e-09\n",
            "minimum loss =  2.875843533822543 \n",
            "\n",
            "count =  102\n",
            "delta =  9.98255522688396e-09\n",
            "minimum loss =  2.875843548375216 \n",
            "\n",
            "count =  151\n",
            "delta =  9.269195633265781e-09\n",
            "minimum loss =  2.8758435792376886 \n",
            "\n",
            "count =  288\n",
            "delta =  9.83553016808969e-09\n",
            "minimum loss =  2.875843698549965 \n",
            "\n",
            "count =  1000\n",
            "delta =  1.2331211518556984e-07\n",
            "minimum loss =  2.8758564714424883 \n",
            "\n"
          ]
        }
      ]
    },
    {
      "cell_type": "code",
      "source": [
        "# max_iter = 5000\n",
        "Gradient_Descent_modified (x_train, t_train, w_init, 0.5, 5000, 1e-8, 0.17, L2_Loss, L2_Gradient)"
      ],
      "metadata": {
        "colab": {
          "base_uri": "https://localhost:8080/"
        },
        "id": "CQYoQjxgl_9W",
        "outputId": "c0d43ecb-d336-43bd-a7e6-700d0d078797"
      },
      "execution_count": null,
      "outputs": [
        {
          "output_type": "stream",
          "name": "stdout",
          "text": [
            "count =  91\n",
            "delta =  9.093730213294293e-09\n",
            "minimum loss =  2.875843533822543 \n",
            "\n"
          ]
        }
      ]
    },
    {
      "cell_type": "code",
      "source": [
        "# max_iter = 500\n",
        "Gradient_Descent_modified (x_train, t_train, w_init, 0.5, 500, 1e-8, 0.17, L2_Loss, L2_Gradient)"
      ],
      "metadata": {
        "colab": {
          "base_uri": "https://localhost:8080/"
        },
        "id": "LYNsbcCLLeyP",
        "outputId": "6a3d8487-2e39-425b-da69-50751fc0413a"
      },
      "execution_count": null,
      "outputs": [
        {
          "output_type": "stream",
          "name": "stdout",
          "text": [
            "count =  91\n",
            "delta =  9.093730213294293e-09\n",
            "minimum loss =  2.875843533822543 \n",
            "\n"
          ]
        }
      ]
    },
    {
      "cell_type": "markdown",
      "source": [
        "**Observation** : \n",
        "* Clearly, our parameter choices work well enough for lamda = 0.5 as well. We tried searching for better parameters for this lamda, but as it turns out, our initial choice works just fine.\n",
        "\n"
      ],
      "metadata": {
        "id": "TWwvQ-aGjnAA"
      }
    },
    {
      "cell_type": "markdown",
      "source": [
        "### **Final Gradient Descent Parameters** \n",
        "\n",
        "So the final choices are as follows:\n",
        "* Learning Rate (lr)  = 0.17\n",
        "* Maximum iterations (max_iter) = 500\n",
        "* Epsilon =  1e-8"
      ],
      "metadata": {
        "id": "5Gv7kWroxDa1"
      }
    },
    {
      "cell_type": "markdown",
      "source": [
        "### ***Hyperparameter Tuning***\n",
        "---\n",
        "\n",
        "\n",
        "\n",
        "* Plotting Validation RMSE vs 1/lamda\n",
        "* Intial range of 1/lamda : 1 to 1000, 100 values"
      ],
      "metadata": {
        "id": "VpD4oVn7xbbi"
      }
    },
    {
      "cell_type": "code",
      "source": [
        "## This cell takes around 30-40s to execute\n",
        "\n",
        "# Here on, we use the original gradient descent function.\n",
        "# define initial range for 1/lamda from 1 to 1000\n",
        "# and observe the validation rmse plot.\n",
        "lamda_inv = np.linspace(1, 1000, 100)\n",
        "Val_RMSE, Train_RMSE = [], []\n",
        "for l_inv in lamda_inv:\n",
        "  w_init = np.random.rand(x.shape[1]+1)\n",
        "  # run gradient descent and store resulting w in w_op (w optimal)\n",
        "  w_op = Gradient_Descent(x_train, x_val, t_train, t_val, w_init, 1/l_inv, 500, 1e-8, 0.17, L2_Loss, L2_Gradient)[0]\n",
        "  # calc validation rmse and training rmse\n",
        "  Val_RMSE.append(np.sqrt(MSE_Loss(x_val, t_val, w_op)))\n",
        "  Train_RMSE.append(np.sqrt(MSE_Loss(x_train, t_train, w_op)))"
      ],
      "metadata": {
        "id": "c7lBIxIe-1eQ"
      },
      "execution_count": null,
      "outputs": []
    },
    {
      "cell_type": "code",
      "source": [
        "plt.plot(lamda_inv, Train_RMSE)\n",
        "plt.show()"
      ],
      "metadata": {
        "colab": {
          "base_uri": "https://localhost:8080/",
          "height": 265
        },
        "id": "ql1x3LGNx_so",
        "outputId": "b79a53e3-8ce0-4f15-e5fd-4bc894ff4e5f"
      },
      "execution_count": null,
      "outputs": [
        {
          "output_type": "display_data",
          "data": {
            "image/png": "[encoded data removed]",
            "text/plain": [
              "<Figure size 432x288 with 1 Axes>"
            ]
          },
          "metadata": {
            "needs_background": "light"
          }
        }
      ]
    },
    {
      "cell_type": "code",
      "source": [
        "plt.plot(lamda_inv, Val_RMSE, color='red')\n",
        "plt.show()"
      ],
      "metadata": {
        "colab": {
          "base_uri": "https://localhost:8080/",
          "height": 265
        },
        "id": "nZo5iIrAx_pJ",
        "outputId": "c8444f26-a530-4dd1-b7f2-ea28a1ddee93"
      },
      "execution_count": null,
      "outputs": [
        {
          "output_type": "display_data",
          "data": {
            "image/png": "[encoded data removed]",
            "text/plain": [
              "<Figure size 432x288 with 1 Axes>"
            ]
          },
          "metadata": {
            "needs_background": "light"
          }
        }
      ]
    },
    {
      "cell_type": "markdown",
      "source": [
        "We observe a clear minima. Let's go ahead, calculate the same and store it for future reference."
      ],
      "metadata": {
        "id": "1Y8OvcBeWlzj"
      }
    },
    {
      "cell_type": "code",
      "source": [
        "lamda_inv_min = lamda_inv[np.argmin(Val_RMSE)]\n",
        "val_rmse_min = np.min(Val_RMSE)\n",
        "print('1/lamda at minima = ', lamda_inv_min)\n",
        "print('Minimum Validation RMSE = ', val_rmse_min)"
      ],
      "metadata": {
        "colab": {
          "base_uri": "https://localhost:8080/"
        },
        "id": "QrF_JFFY8A1s",
        "outputId": "685c2e9c-2399-4ff3-8c5f-26fffdf464ee"
      },
      "execution_count": null,
      "outputs": [
        {
          "output_type": "stream",
          "name": "stdout",
          "text": [
            "1/lamda at minima =  11.090909090909092\n",
            "Minimum Validation RMSE =  1.4868970623899997\n"
          ]
        }
      ]
    },
    {
      "cell_type": "markdown",
      "source": [
        "Now although we have got a clear minima, just to be on the safe side, and ensure that it is indeed a global minima, let's observe the validation rmse curve for a very wide range of 1/lamda.\n",
        "\n",
        "Let's choose the range as 100 to 1e+8"
      ],
      "metadata": {
        "id": "s40MWZtF8zFt"
      }
    },
    {
      "cell_type": "code",
      "source": [
        "lamda_inv = np.linspace(100, 1e+8, 50)\n",
        "Val_RMSE, Train_RMSE = [], []\n",
        "for l_inv in lamda_inv:\n",
        "  w_init = np.random.rand(x.shape[1]+1)\n",
        "  # run gradient descent and store resulting w in w_op (w optimal)\n",
        "  w_op = Gradient_Descent(x_train, x_val, t_train, t_val, w_init, 1/l_inv, 500, 1e-8, 0.17, L2_Loss, L2_Gradient)[0]\n",
        "  # calc validation rmse and training rmse\n",
        "  Val_RMSE.append(np.sqrt(MSE_Loss(x_val, t_val, w_op)))\n",
        "  # Train_RMSE.append(np.sqrt(MSE_Loss(x_train, t_train, w_op)))"
      ],
      "metadata": {
        "id": "rSMw6aY9R_s6"
      },
      "execution_count": null,
      "outputs": []
    },
    {
      "cell_type": "code",
      "source": [
        "plt.plot(lamda_inv, Val_RMSE, color='red')\n",
        "plt.show()"
      ],
      "metadata": {
        "colab": {
          "base_uri": "https://localhost:8080/",
          "height": 278
        },
        "id": "0M4SgSv9SLkt",
        "outputId": "6a1b03a2-8a90-4bb3-d19d-f3884863d4d0"
      },
      "execution_count": null,
      "outputs": [
        {
          "output_type": "display_data",
          "data": {
            "image/png": "[encoded data removed]",
            "text/plain": [
              "<Figure size 432x288 with 1 Axes>"
            ]
          },
          "metadata": {
            "needs_background": "light"
          }
        }
      ]
    },
    {
      "cell_type": "markdown",
      "source": [
        "Clearly, we had observed a global minima in the previous step."
      ],
      "metadata": {
        "id": "ARfwlCNJ9-au"
      }
    },
    {
      "cell_type": "markdown",
      "source": [
        "### **Conclusion**\n",
        "\n",
        "Thus best lambda for **L2 Loss** is approximately 1/11.091 = 0.09\n",
        "with validation rmse alround 1.487\n"
      ],
      "metadata": {
        "id": "YGwH0MFaGFs0"
      }
    },
    {
      "cell_type": "code",
      "source": [
        "# print the optimum weight vector for L2_Loss\n",
        "lamda_best_L2 = 1/lamda_inv_min\n",
        "w_best_L2 = Gradient_Descent(x_train, x_val, t_train, t_val, w_init, lamda_best_L2, 500, 1e-8, 0.17, L2_Loss, L2_Gradient)[0]\n",
        "best_val_RMSE_L2 = np.sqrt(MSE_Loss(x_val, t_val, w_best_L2))\n",
        "best_val_NRMSE_L2 = NRMSE_Metric(x_val, t_val, w_best_L2)\n",
        "print('optimum w :\\n', w_best_L2)\n",
        "print('\\nValidation RMSE : ', best_val_RMSE_L2)\n",
        "print('Validation NRMSE : ', best_val_NRMSE_L2)"
      ],
      "metadata": {
        "colab": {
          "base_uri": "https://localhost:8080/"
        },
        "id": "GgV0n8sC2kOh",
        "outputId": "16348d44-9be3-485c-f353-4d30a3e525a4"
      },
      "execution_count": null,
      "outputs": [
        {
          "output_type": "stream",
          "name": "stdout",
          "text": [
            "optimum w :\n",
            " [ 4.29033189e-01  9.04722365e-02  3.24134149e-01 -1.16341297e-01\n",
            "  1.76576738e+00  3.09033646e-01 -3.69301909e-01  2.73989734e-01\n",
            " -4.07237641e-01 -1.40847661e-01 -1.71715910e-01 -2.84663483e-01\n",
            " -7.87267597e-02  1.98171486e-01 -2.07006498e-02  1.40551803e-02\n",
            " -6.45385099e-02 -1.14324806e-01 -2.16901519e-01  2.71089441e-01\n",
            "  1.25517729e-01  3.02231732e+01]\n",
            "\n",
            "Validation RMSE :  1.4868967181750952\n",
            "Validation NRMSE :  0.3951728816170014\n"
          ]
        }
      ]
    },
    {
      "cell_type": "markdown",
      "source": [
        "## Optimal model parameters using **L1 Loss**\n",
        "* Optimization problem -> ***minimize the loss function.***\n",
        "* Optimization algorithm -> ***Gradient Descent***"
      ],
      "metadata": {
        "id": "2AZia-kuyFER"
      }
    },
    {
      "cell_type": "markdown",
      "source": [
        "### Setting up **Gradient Descent** (**max_iter, epsilon and lr**)\n",
        "* Follwing we perform an experiment to fix upon the stopping criteria, max no. of iterations and learning rate.\n",
        "* **Design** : Take off from last section from the result for lamda = 0 as L1_Loss and L2_Loss are same for lamda = 0.\n",
        "* Tweak learning rate, epsilon and max_iter for lamda as 1 to obtain the final values."
      ],
      "metadata": {
        "id": "aV_qbmpTx9aH"
      }
    },
    {
      "cell_type": "markdown",
      "source": [
        "### Experiments for Gradient Descent for L1 Loss"
      ],
      "metadata": {
        "id": "plY5NgiVrtFT"
      }
    },
    {
      "cell_type": "code",
      "source": [
        "# randomly initialize w as w_init\n",
        "# from uniform distribution over [0,1) \n",
        "w_init = np.random.rand(x.shape[1]+1)"
      ],
      "metadata": {
        "id": "4Qazad9Cv_X2"
      },
      "execution_count": null,
      "outputs": []
    },
    {
      "cell_type": "code",
      "source": [
        "# with learning rate and \n",
        "Gradient_Descent_modified (x_train, t_train, w_init, 1, 1000, 1e-8, 0.17, L1_Loss, L1_Gradient)"
      ],
      "metadata": {
        "colab": {
          "base_uri": "https://localhost:8080/"
        },
        "id": "OS6O68LIyrf2",
        "outputId": "9c06d925-a747-442b-dc76-0c3429dce878"
      },
      "execution_count": null,
      "outputs": [
        {
          "output_type": "stream",
          "name": "stdout",
          "text": [
            "count =  1000\n",
            "delta =  2.8315282379121705\n",
            "minimum loss =  20.911986809541116 \n",
            "\n"
          ]
        }
      ]
    },
    {
      "cell_type": "code",
      "source": [
        "# let's try for variety of learning rates\n",
        "lr_arr = [0.23, 0.21, 0.19, 0.17, 0.15, 0.1, 0.05, 0.01]\n",
        "for lr in lr_arr:\n",
        "  Gradient_Descent_modified (x_train, t_train, w_init, 1, 1000, 1e-8, lr, L1_Loss, L1_Gradient)"
      ],
      "metadata": {
        "colab": {
          "base_uri": "https://localhost:8080/"
        },
        "id": "6MgcQhs6y5VG",
        "outputId": "9d315d4c-aca2-4deb-f06b-f4de5e153503"
      },
      "execution_count": null,
      "outputs": [
        {
          "output_type": "stream",
          "name": "stdout",
          "text": [
            "count =  1000\n",
            "delta =  1.092223092617715e+188\n",
            "minimum loss =  3.129956910080877e+188 \n",
            "\n",
            "count =  1000\n",
            "delta =  1.2294887468771121e+40\n",
            "minimum loss =  1.4703753543902869e+41 \n",
            "\n",
            "count =  1000\n",
            "delta =  4.449907428140264\n",
            "minimum loss =  117.56730490618553 \n",
            "\n",
            "count =  1000\n",
            "delta =  2.8315282379121705\n",
            "minimum loss =  20.911986809541116 \n",
            "\n",
            "count =  1000\n",
            "delta =  1.681793769097677\n",
            "minimum loss =  9.42286735904564 \n",
            "\n",
            "count =  1000\n",
            "delta =  0.3528163922068419\n",
            "minimum loss =  5.909340322138258 \n",
            "\n",
            "count =  1000\n",
            "delta =  0.15582292989512148\n",
            "minimum loss =  5.356285982004833 \n",
            "\n",
            "count =  1000\n",
            "delta =  0.021277999152600202\n",
            "minimum loss =  5.017060879279802 \n",
            "\n"
          ]
        }
      ]
    },
    {
      "cell_type": "markdown",
      "source": [
        "Observing the trend in minimum losses above, it seems best to go with learning rate = 0.21 as it gives minimum loss. It is also observed that lowering the learning rates below 0.17 clearly improves performance.\n",
        "\n",
        "Let's hold onto that observation and explore it further if 0.21 doesn't perform well for lamda = 0 and 0.5"
      ],
      "metadata": {
        "id": "yabOwuexAECE"
      }
    },
    {
      "cell_type": "code",
      "source": [
        "# try lr = 0.21 for lamda = 0 and 0.5\n",
        "# lamda = 0\n",
        "Gradient_Descent_modified (x_train, t_train, w_init, 0, 1000, 1e-8, 0.21, L1_Loss, L1_Gradient)\n",
        "# lamda = 0.5\n",
        "Gradient_Descent_modified (x_train, t_train, w_init, 0.5, 1000, 1e-8, 0.21, L1_Loss, L1_Gradient)"
      ],
      "metadata": {
        "colab": {
          "base_uri": "https://localhost:8080/"
        },
        "id": "AbDI0PyEBD5I",
        "outputId": "ba70bcfa-6c5d-4a4f-a38b-1a3804853b6e"
      },
      "execution_count": null,
      "outputs": [
        {
          "output_type": "stream",
          "name": "stdout",
          "text": [
            "count =  1000\n",
            "delta =  1.1735933409459498e+38\n",
            "minimum loss =  1.4035286853877655e+39 \n",
            "\n",
            "count =  1000\n",
            "delta =  3.679809918364251e+39\n",
            "minimum loss =  4.400773757829708e+40 \n",
            "\n"
          ]
        }
      ]
    },
    {
      "cell_type": "markdown",
      "source": [
        "Observation : minimum loss acheived for lamda = 0 and 0.5 shoots off to very large values at this rate.\n",
        "\n",
        "Clearly, we need to get back to that thought and explore lower learning rates further.\n",
        "\n"
      ],
      "metadata": {
        "id": "_-KZcKO8BfCa"
      }
    },
    {
      "cell_type": "code",
      "source": [
        "# try for lower learning rates\n",
        "lr_arr = [0.1, 0.05, 0.01, 0.005, 0.001, 0.0005]\n",
        "for lr in lr_arr:\n",
        "  Gradient_Descent_modified (x_train, t_train, w_init, 1, 1000, 1e-8, lr, L1_Loss, L1_Gradient)"
      ],
      "metadata": {
        "colab": {
          "base_uri": "https://localhost:8080/"
        },
        "id": "a5h0Khx4CMYI",
        "outputId": "93a4dca8-8d3a-4c8e-822d-594d0cfdb69c"
      },
      "execution_count": null,
      "outputs": [
        {
          "output_type": "stream",
          "name": "stdout",
          "text": [
            "count =  1000\n",
            "delta =  0.3528163922068419\n",
            "minimum loss =  5.909340322138258 \n",
            "\n",
            "count =  1000\n",
            "delta =  0.15582292989512148\n",
            "minimum loss =  5.356285982004833 \n",
            "\n",
            "count =  1000\n",
            "delta =  0.021277999152600202\n",
            "minimum loss =  5.017060879279802 \n",
            "\n",
            "count =  1000\n",
            "delta =  0.009021724243903684\n",
            "minimum loss =  4.978974231234468 \n",
            "\n",
            "count =  1000\n",
            "delta =  0.06830173710321219\n",
            "minimum loss =  22.79825710044705 \n",
            "\n",
            "count =  1000\n",
            "delta =  0.22868564197472097\n",
            "minimum loss =  123.67259859213863 \n",
            "\n"
          ]
        }
      ]
    },
    {
      "cell_type": "markdown",
      "source": [
        "Learning rate of 0.01 seems to be the best choice here. We could go for 0.005 but there is really only a slight improvement. This doesn't seem worth going for such a slow learning rate.\n",
        "\n",
        "Next for learning rate of 0.01, increase/decrease max_iter to see the effect on performance."
      ],
      "metadata": {
        "id": "Anuyj5TzC6o6"
      }
    },
    {
      "cell_type": "code",
      "source": [
        "# max_iter = 5000\n",
        "Gradient_Descent_modified (x_train, t_train, w_init, 1, 5000, 1e-8, 0.01, L1_Loss, L1_Gradient)"
      ],
      "metadata": {
        "colab": {
          "base_uri": "https://localhost:8080/"
        },
        "id": "fnrLE8goD1D_",
        "outputId": "189f55ec-c846-4185-e5a2-e02964e5628a"
      },
      "execution_count": null,
      "outputs": [
        {
          "output_type": "stream",
          "name": "stdout",
          "text": [
            "count =  5000\n",
            "delta =  0.014952461987906673\n",
            "minimum loss =  4.993727341141227 \n",
            "\n"
          ]
        }
      ]
    },
    {
      "cell_type": "code",
      "source": [
        "# max_iter = 500\n",
        "Gradient_Descent_modified (x_train, t_train, w_init, 1, 500, 1e-8, 0.01, L1_Loss, L1_Gradient)"
      ],
      "metadata": {
        "colab": {
          "base_uri": "https://localhost:8080/"
        },
        "id": "h7odPEwiD_8B",
        "outputId": "ad00ebf4-35f9-4b96-c129-f719fb5daf17"
      },
      "execution_count": null,
      "outputs": [
        {
          "output_type": "stream",
          "name": "stdout",
          "text": [
            "count =  500\n",
            "delta =  0.031370487269527736\n",
            "minimum loss =  5.023748550786248 \n",
            "\n"
          ]
        }
      ]
    },
    {
      "cell_type": "markdown",
      "source": [
        "For max_iter = 5000, there is not any significant improvement and for max_iter= 500, there isn't any significant depreciation in performance.\n",
        "\n",
        "So we finalize max_iter = 500 for now."
      ],
      "metadata": {
        "id": "pev_byR2ERzQ"
      }
    },
    {
      "cell_type": "markdown",
      "source": [
        "Now, let's validate our choice for lamda = 0 and 0.5"
      ],
      "metadata": {
        "id": "f37E52WeEmqa"
      }
    },
    {
      "cell_type": "code",
      "source": [
        "# try max_iter=500, lr= 0.01 for lamda = 0 and 0.5\n",
        "# lamda = 0\n",
        "Gradient_Descent_modified (x_train, t_train, w_init, 0, 500, 1e-8, 0.01, L1_Loss, L1_Gradient)\n",
        "# lamda = 0.5\n",
        "Gradient_Descent_modified (x_train, t_train, w_init, 0.5, 500, 1e-8, 0.01, L1_Loss, L1_Gradient)"
      ],
      "metadata": {
        "colab": {
          "base_uri": "https://localhost:8080/"
        },
        "id": "_YB1n8a0Ek5t",
        "outputId": "ffaf8027-76bc-479e-922d-3005fb7d8052"
      },
      "execution_count": null,
      "outputs": [
        {
          "output_type": "stream",
          "name": "stdout",
          "text": [
            "count =  500\n",
            "delta =  0.00019486020415282468\n",
            "minimum loss =  2.0069936384928164 \n",
            "\n",
            "count =  500\n",
            "delta =  0.001966806723394665\n",
            "minimum loss =  3.7786215339103486 \n",
            "\n"
          ]
        }
      ]
    },
    {
      "cell_type": "markdown",
      "source": [
        "As compared to the values for minimum loss achieved before, 1.95 and 3.59 respectively, although there is slight depreciation, but again it isn't really very significant.\n",
        "\n",
        "But still to be on the safe side, let's increase the max_iter bound to 1000."
      ],
      "metadata": {
        "id": "NVw0W9BJFTfP"
      }
    },
    {
      "cell_type": "code",
      "source": [
        "# try max_iter=500, lr= 0.01 for lamda = 0 and 0.5\n",
        "# lamda = 0\n",
        "Gradient_Descent_modified (x_train, t_train, w_init, 0, 1000, 1e-8, 0.01, L1_Loss, L1_Gradient)\n",
        "# lamda = 0.5\n",
        "Gradient_Descent_modified (x_train, t_train, w_init, 0.5, 1000, 1e-8, 0.01, L1_Loss, L1_Gradient)"
      ],
      "metadata": {
        "colab": {
          "base_uri": "https://localhost:8080/"
        },
        "id": "3B8s6ddiFs3X",
        "outputId": "48c0dee7-dbfe-485c-a51f-4cced6f24b31"
      },
      "execution_count": null,
      "outputs": [
        {
          "output_type": "stream",
          "name": "stdout",
          "text": [
            "count =  1000\n",
            "delta =  3.0211561095283557e-05\n",
            "minimum loss =  1.9661075283750529 \n",
            "\n",
            "count =  1000\n",
            "delta =  0.005287759540400394\n",
            "minimum loss =  3.7634055300173266 \n",
            "\n"
          ]
        }
      ]
    },
    {
      "cell_type": "markdown",
      "source": [
        "So our final values of parameters of gradient descent are as follows."
      ],
      "metadata": {
        "id": "jzE4_0gHF9E2"
      }
    },
    {
      "cell_type": "markdown",
      "source": [
        "### **Final Gradient Descent Parameters**\n",
        "* Learning Rate (lr)  = 0.01\n",
        "* Maximum iterations (max_iter) = 1000\n",
        "* Epsilon =  1e-8"
      ],
      "metadata": {
        "id": "W5ijdyEhytHN"
      }
    },
    {
      "cell_type": "markdown",
      "source": [
        "### ***Hyperparameter Tuning***\n",
        "\n",
        "---\n",
        "\n",
        "* Plotting Validation RMSE vs 1/lamda\n",
        "* Intial range of 1/lamda : 10 to 1000, 100 values"
      ],
      "metadata": {
        "id": "uXqfJDQ1yuhU"
      }
    },
    {
      "cell_type": "code",
      "source": [
        "# define initial range for 1/lamda from 1 to 1000\n",
        "# and observe the validation rmse plot.\n",
        "lamda_inv = np.linspace(1, 1000, 100)\n",
        "Val_RMSE, Train_RMSE = [], []\n",
        "for l_inv in lamda_inv:\n",
        "  w_init = np.random.rand(x.shape[1]+1)\n",
        "  # run gradient descent and store resulting w in w_op (w optimal)\n",
        "  w_op = Gradient_Descent(x_train, x_val, t_train, t_val, w_init, 1/l_inv, 1000, 1e-8, 0.01, L1_Loss, L1_Gradient)[0]\n",
        "  # calc validation rmse and training rmse\n",
        "  Val_RMSE.append(np.sqrt(MSE_Loss(x_val, t_val, w_op)))\n",
        "  Train_RMSE.append(np.sqrt(MSE_Loss(x_train, t_train, w_op)))"
      ],
      "metadata": {
        "id": "c6GTFwjGy64b"
      },
      "execution_count": null,
      "outputs": []
    },
    {
      "cell_type": "code",
      "source": [
        "plt.plot(lamda_inv, Train_RMSE)\n",
        "plt.show()"
      ],
      "metadata": {
        "colab": {
          "base_uri": "https://localhost:8080/",
          "height": 265
        },
        "id": "ynW-iDIvy6wP",
        "outputId": "1554549d-f314-4e4d-ccef-841c1b8722bb"
      },
      "execution_count": null,
      "outputs": [
        {
          "output_type": "display_data",
          "data": {
            "image/png": "[encoded data removed]",
            "text/plain": [
              "<Figure size 432x288 with 1 Axes>"
            ]
          },
          "metadata": {
            "needs_background": "light"
          }
        }
      ]
    },
    {
      "cell_type": "code",
      "source": [
        "plt.plot(lamda_inv, Val_RMSE, color='red')\n",
        "plt.show()"
      ],
      "metadata": {
        "colab": {
          "base_uri": "https://localhost:8080/",
          "height": 265
        },
        "id": "DW6l3QBjy6nw",
        "outputId": "9bb4a972-a65f-4c20-8293-a89844b32462"
      },
      "execution_count": null,
      "outputs": [
        {
          "output_type": "display_data",
          "data": {
            "image/png": "[encoded data removed]",
            "text/plain": [
              "<Figure size 432x288 with 1 Axes>"
            ]
          },
          "metadata": {
            "needs_background": "light"
          }
        }
      ]
    },
    {
      "cell_type": "markdown",
      "source": [
        "On closely observing the validation rmse curve, it seems like the minima occurs somewhere close to the starting point of the range of 1/lamda plotted.\n",
        "\n",
        "Let's zoom in to that range on the validation rmse curve.\n",
        " Use lamda_inv range as 5 to 800."
      ],
      "metadata": {
        "id": "xC4L9HvRHPZd"
      }
    },
    {
      "cell_type": "code",
      "source": [
        "## NOTE : this cell takes around 1m to execute\n",
        "\n",
        "lamda_inv = np.linspace(5, 800, 50)\n",
        "Val_RMSE, Train_RMSE = [], []\n",
        "for l_inv in lamda_inv:\n",
        "  w_init = np.random.rand(x.shape[1]+1)\n",
        "  # run gradient descent and store resulting w in w_op (w optimal)\n",
        "  w_op = Gradient_Descent(x_train, x_val, t_train, t_val, w_init, 1/l_inv, 1000, 1e-8, 0.01, L1_Loss, L1_Gradient)[0]\n",
        "  # calc validation rmse and training rmse\n",
        "  Val_RMSE.append(np.sqrt(MSE_Loss(x_val, t_val, w_op)))\n",
        "  # Train_RMSE.append(np.sqrt(MSE_Loss(x_train, t_train, w_op)))"
      ],
      "metadata": {
        "id": "NGzekGWqy9ko"
      },
      "execution_count": null,
      "outputs": []
    },
    {
      "cell_type": "code",
      "source": [
        "plt.plot(lamda_inv, Val_RMSE, color='red')\n",
        "plt.show()"
      ],
      "metadata": {
        "colab": {
          "base_uri": "https://localhost:8080/",
          "height": 265
        },
        "id": "uiAzI4chZPl5",
        "outputId": "c0e974a8-0d9d-4b68-d411-b262fb447e5b"
      },
      "execution_count": null,
      "outputs": [
        {
          "output_type": "display_data",
          "data": {
            "image/png": "[encoded data removed]",
            "text/plain": [
              "<Figure size 432x288 with 1 Axes>"
            ]
          },
          "metadata": {
            "needs_background": "light"
          }
        }
      ]
    },
    {
      "cell_type": "markdown",
      "source": [
        "We observe a clear minima. Let's go ahead, calculate the same and store it for future reference."
      ],
      "metadata": {
        "id": "sKzAymV0LB8L"
      }
    },
    {
      "cell_type": "code",
      "source": [
        "lamda_inv_min = lamda_inv[np.argmin(Val_RMSE)]\n",
        "val_rmse_min = np.min(Val_RMSE)\n",
        "print('1/lamda at minima = ', lamda_inv_min)\n",
        "print('Minimum Validation RMSE = ', val_rmse_min)"
      ],
      "metadata": {
        "colab": {
          "base_uri": "https://localhost:8080/"
        },
        "id": "FiZOX0tgLM_5",
        "outputId": "29eef3be-1231-4c36-bed2-d23137d8880e"
      },
      "execution_count": null,
      "outputs": [
        {
          "output_type": "stream",
          "name": "stdout",
          "text": [
            "1/lamda at minima =  21.224489795918366\n",
            "Minimum Validation RMSE =  1.488102186382294\n"
          ]
        }
      ]
    },
    {
      "cell_type": "markdown",
      "source": [
        "Now although we have got a clear minima, just to be on the safe side, and ensure that it is indeed a global minima, let's observe the validation rmse curve for a very wide range of 1/lamda.\n",
        "\n",
        "Let's choose the range as 100 to 1e+8"
      ],
      "metadata": {
        "id": "3Aly0ineLVSU"
      }
    },
    {
      "cell_type": "code",
      "source": [
        "## NOTE : This Cell Takes around 1m 40s to execute\n",
        "\n",
        "lamda_inv = np.linspace(20, 1e+6, 100)\n",
        "Val_RMSE, Train_RMSE = [], []\n",
        "for l_inv in lamda_inv:\n",
        "  w_init = np.random.rand(x.shape[1]+1)\n",
        "  # run gradient descent and store resulting w in w_op (w optimal)\n",
        "  w_op = Gradient_Descent(x_train, x_val, t_train, t_val, w_init, 1/l_inv, 1000, 1e-8, 0.01, L1_Loss, L1_Gradient)[0]\n",
        "  # calc validation rmse and training rmse\n",
        "  Val_RMSE.append(np.sqrt(MSE_Loss(x_val, t_val, w_op)))\n",
        "  # Train_RMSE.append(np.sqrt(MSE_Loss(x_train, t_train, w_op)))"
      ],
      "metadata": {
        "id": "bXNi1dwGJV7Q"
      },
      "execution_count": null,
      "outputs": []
    },
    {
      "cell_type": "code",
      "source": [
        "plt.plot(lamda_inv, Val_RMSE, color='red')\n",
        "plt.show()"
      ],
      "metadata": {
        "colab": {
          "base_uri": "https://localhost:8080/",
          "height": 278
        },
        "id": "erlUgShNLlJZ",
        "outputId": "0ce0953b-b8fe-424a-962f-ed37a455c2be"
      },
      "execution_count": null,
      "outputs": [
        {
          "output_type": "display_data",
          "data": {
            "image/png": "[encoded data removed]",
            "text/plain": [
              "<Figure size 432x288 with 1 Axes>"
            ]
          },
          "metadata": {
            "needs_background": "light"
          }
        }
      ]
    },
    {
      "cell_type": "markdown",
      "source": [
        "It can be clearly observed that the curve increases and saturates around a certain value and doesn't show any potential monotonically decreasing nature even for such a wide range of 1/lamda.\n",
        "\n",
        "Thus, the minima observed in the last run, is indeed a global minima."
      ],
      "metadata": {
        "id": "QFlwQFcYGrmK"
      }
    },
    {
      "cell_type": "markdown",
      "source": [
        "### **Conclusion**\n",
        "Thus best lambda for **L1 Loss** is approximately 1/21.224 = 0.047\n",
        "with validation rmse around 1.488"
      ],
      "metadata": {
        "id": "7n5JywFVIfY7"
      }
    },
    {
      "cell_type": "code",
      "source": [
        "# save and print the final weight vector, validation rmse and nrmse for L1_Loss\n",
        "lamda_best_L1 = 1/lamda_inv_min\n",
        "w_best_L1 = Gradient_Descent(x_train, x_val, t_train, t_val, w_init, lamda_best_L1, 1000, 1e-8, 0.01, L1_Loss, L1_Gradient)[0]\n",
        "best_val_RMSE_L1 = np.sqrt(MSE_Loss(x_val, t_val, w_best_L1))\n",
        "best_val_NRMSE_L1 = NRMSE_Metric(x_val, t_val, w_best_L1)\n",
        "print('optimum w :\\n', w_best_L1)\n",
        "print('\\nValidation RMSE : ', best_val_RMSE_L1)\n",
        "print('Validation NRMSE : ', best_val_NRMSE_L1)"
      ],
      "metadata": {
        "colab": {
          "base_uri": "https://localhost:8080/"
        },
        "id": "zPE7xC8tImKu",
        "outputId": "5948c5e4-69ce-45bf-b4b0-7df55833646a"
      },
      "execution_count": null,
      "outputs": [
        {
          "output_type": "stream",
          "name": "stdout",
          "text": [
            "optimum w :\n",
            " [ 4.07122041e-01  4.83618127e-02  1.09909200e-01 -2.22591615e-02\n",
            "  1.71259343e+00  3.97673603e-01 -3.29580660e-01  2.66778791e-01\n",
            " -4.60139011e-01 -2.97238505e-02 -1.01781970e-01 -2.76571024e-01\n",
            " -4.26396135e-02  1.55575020e-01 -4.04807761e-04 -5.29611900e-04\n",
            " -3.99480144e-02 -1.09674155e-01 -1.60334430e-01  2.10100321e-01\n",
            "  1.10351000e-01  3.02150390e+01]\n",
            "\n",
            "Validation RMSE :  1.4920337107441677\n",
            "Validation NRMSE :  0.3965381413095892\n"
          ]
        }
      ]
    },
    {
      "cell_type": "markdown",
      "source": [
        "## **Pseudo-inverse Method for L2 Loss**"
      ],
      "metadata": {
        "id": "ABAtwAb4zfNN"
      }
    },
    {
      "cell_type": "markdown",
      "source": [
        "This method gives the exact solution for minima of the L2 Loss function. Uptil now, we used gradient descent algorithm to estimate the minima of the loss function. \n",
        "\n"
      ],
      "metadata": {
        "id": "oqFwo5I_I7MT"
      }
    },
    {
      "cell_type": "markdown",
      "source": [
        "### Hyperparameter Tuning\n",
        "* Plotting Validation RMSE vs 1/lamda\n",
        "* Intial range of 1/lamda : 1 to 1000, 200 values"
      ],
      "metadata": {
        "id": "LKq8i1rIzqxQ"
      }
    },
    {
      "cell_type": "code",
      "source": [
        "lamda_inv = np.linspace(1, 100, 50)\n",
        "Val_RMSE, Train_RMSE = [], []\n",
        "for l_inv in lamda_inv:\n",
        "  # calculate optimum w using Pseudo_Inverse method\n",
        "  w_op = Pseudo_Inverse (x_train, t_train, 1/l_inv)\n",
        "  # calc validation rmse and training rmse\n",
        "  Val_RMSE.append(np.sqrt(MSE_Loss(x_val, t_val, w_op)))\n",
        "  Train_RMSE.append(np.sqrt(MSE_Loss(x_train, t_train, w_op)))"
      ],
      "metadata": {
        "id": "_jsnd8ADzr9d"
      },
      "execution_count": null,
      "outputs": []
    },
    {
      "cell_type": "code",
      "source": [
        "plt.plot(lamda_inv, Train_RMSE, color='blue')\n",
        "plt.show()"
      ],
      "metadata": {
        "colab": {
          "base_uri": "https://localhost:8080/",
          "height": 276
        },
        "id": "lI8nHLegzr6K",
        "outputId": "be6dca40-24ec-49cf-ed2a-dad08cd1ca40"
      },
      "execution_count": null,
      "outputs": [
        {
          "output_type": "display_data",
          "data": {
            "image/png": "[encoded data removed]",
            "text/plain": [
              "<Figure size 432x288 with 1 Axes>"
            ]
          },
          "metadata": {
            "needs_background": "light"
          }
        }
      ]
    },
    {
      "cell_type": "code",
      "source": [
        "plt.plot(lamda_inv, Val_RMSE, color='red')\n",
        "plt.show()"
      ],
      "metadata": {
        "colab": {
          "base_uri": "https://localhost:8080/",
          "height": 265
        },
        "id": "j9bC574pzr3i",
        "outputId": "1f253e3c-a2a4-4c1f-9a53-ef681a0c2948"
      },
      "execution_count": null,
      "outputs": [
        {
          "output_type": "display_data",
          "data": {
            "image/png": "[encoded data removed]",
            "text/plain": [
              "<Figure size 432x288 with 1 Axes>"
            ]
          },
          "metadata": {
            "needs_background": "light"
          }
        }
      ]
    },
    {
      "cell_type": "markdown",
      "source": [
        "Clearly, there is no hint of any minima in the curve above.\n",
        "\n",
        "Lets increase the range slightly, say 40 to 500."
      ],
      "metadata": {
        "id": "u3K8yLPmWFia"
      }
    },
    {
      "cell_type": "code",
      "source": [
        "lamda_inv = np.linspace(40, 500, 100)\n",
        "Val_RMSE, Train_RMSE = [], []\n",
        "for l_inv in lamda_inv:\n",
        "  # calculate optimum w using Pseudo_Inverse method\n",
        "  w_op = Pseudo_Inverse (x_train, t_train, 1/l_inv)\n",
        "  # calc validation rmse and training rmse\n",
        "  Val_RMSE.append(np.sqrt(MSE_Loss(x_val, t_val, w_op)))\n",
        "  Train_RMSE.append(np.sqrt(MSE_Loss(x_train, t_train, w_op)))"
      ],
      "metadata": {
        "id": "kLvpyzp8Qw4o"
      },
      "execution_count": null,
      "outputs": []
    },
    {
      "cell_type": "code",
      "source": [
        "plt.plot(lamda_inv, Val_RMSE, color='red')\n",
        "plt.show()"
      ],
      "metadata": {
        "colab": {
          "base_uri": "https://localhost:8080/",
          "height": 276
        },
        "id": "m9X4Gy50Q403",
        "outputId": "085d7a49-852c-4fde-e770-a01383f51eee"
      },
      "execution_count": null,
      "outputs": [
        {
          "output_type": "display_data",
          "data": {
            "image/png": "[encoded data removed]",
            "text/plain": [
              "<Figure size 432x288 with 1 Axes>"
            ]
          },
          "metadata": {
            "needs_background": "light"
          }
        }
      ]
    },
    {
      "cell_type": "markdown",
      "source": [
        "The changes in RMSE value are very insignificant. Let's validate this observation further by increasing the range as 400 to 5000."
      ],
      "metadata": {
        "id": "RH6vzdjTWX5E"
      }
    },
    {
      "cell_type": "code",
      "source": [
        "lamda_inv = np.linspace(400, 5000, 200)\n",
        "Val_RMSE, Train_RMSE = [], []\n",
        "for l_inv in lamda_inv:\n",
        "  # calculate optimum w using Pseudo_Inverse method\n",
        "  w_op = Pseudo_Inverse (x_train, t_train, 1/l_inv)\n",
        "  # calc validation rmse and training rmse\n",
        "  Val_RMSE.append(np.sqrt(MSE_Loss(x_val, t_val, w_op)))\n",
        "  Train_RMSE.append(np.sqrt(MSE_Loss(x_train, t_train, w_op)))"
      ],
      "metadata": {
        "id": "8Zrn3On_Q4oH"
      },
      "execution_count": null,
      "outputs": []
    },
    {
      "cell_type": "code",
      "source": [
        "plt.plot(lamda_inv, Val_RMSE, color='red')\n",
        "plt.show()"
      ],
      "metadata": {
        "colab": {
          "base_uri": "https://localhost:8080/",
          "height": 276
        },
        "id": "nmg_bCdwRBWR",
        "outputId": "47689c84-12ff-405c-92b8-c99ff489fb0b"
      },
      "execution_count": null,
      "outputs": [
        {
          "output_type": "display_data",
          "data": {
            "image/png": "[encoded data removed]",
            "text/plain": [
              "<Figure size 432x288 with 1 Axes>"
            ]
          },
          "metadata": {
            "needs_background": "light"
          }
        }
      ]
    },
    {
      "cell_type": "markdown",
      "source": [
        "Just to be on safe side, lets now validate our observation that changes in validation rmse curve become highly insignificant for larger ranges, for a pretty wide range of 5000 to 5e+8."
      ],
      "metadata": {
        "id": "n7X0UgAPWt1T"
      }
    },
    {
      "cell_type": "code",
      "source": [
        "lamda_inv = np.linspace(5000, 5e+8, 400)\n",
        "Val_RMSE, Train_RMSE = [], []\n",
        "for l_inv in lamda_inv:\n",
        "  # calculate optimum w using Pseudo_Inverse method\n",
        "  w_op = Pseudo_Inverse (x_train, t_train, 1/l_inv)\n",
        "  # calc validation rmse and training rmse\n",
        "  Val_RMSE.append(np.sqrt(MSE_Loss(x_val, t_val, w_op)))\n",
        "  Train_RMSE.append(np.sqrt(MSE_Loss(x_train, t_train, w_op)))"
      ],
      "metadata": {
        "id": "XfW_gV8nROVK"
      },
      "execution_count": null,
      "outputs": []
    },
    {
      "cell_type": "code",
      "source": [
        "plt.plot(lamda_inv, Val_RMSE, color='red')\n",
        "plt.show()"
      ],
      "metadata": {
        "colab": {
          "base_uri": "https://localhost:8080/",
          "height": 289
        },
        "id": "8FUVF8X8RXVw",
        "outputId": "a269dea8-5f0f-48f1-9a1e-888f3551635c"
      },
      "execution_count": null,
      "outputs": [
        {
          "output_type": "display_data",
          "data": {
            "image/png": "[encoded data removed]",
            "text/plain": [
              "<Figure size 432x288 with 1 Axes>"
            ]
          },
          "metadata": {
            "needs_background": "light"
          }
        }
      ]
    },
    {
      "cell_type": "markdown",
      "source": [
        "### **Observation**\n",
        "Clearly as observed from the last 3 curves, the validation RMSE curve changes on the scale 1e-5, 1e-6 and 1e-7 as we keep increasing the range. These changes are insignificant.\n",
        "\n",
        "These small changes happen around RMSE = 1.5147."
      ],
      "metadata": {
        "id": "sYalUwW6Rdij"
      }
    },
    {
      "cell_type": "markdown",
      "source": [
        "### **Inference**\n",
        "\n",
        "Above implies that after a certain value of 1/lamda, variations in the validation rmse curve obtained by pseudo inverse method, are highly insignificant. \n",
        "\n",
        "Although being insignificant, there is still a decreasing nature of the curve.\n",
        "\n",
        "Most plausible reasons are that the overall training data was normalised before splitting, which might have made model already familiar with validation data or\n",
        "\n",
        "that the problem itself is too simple that even with increasing model complexity to very large values, **there is no noticeable effect of overfitting.**\n",
        "\n",
        "This nature not being observed in the previous sections could be attributed to the use of an approximate first order gradient descent algorithm for optimization."
      ],
      "metadata": {
        "id": "tsuadZQsS_DT"
      }
    },
    {
      "cell_type": "markdown",
      "source": [
        "### **Selecting the Best Lamda**\n",
        "The best value of lamda_inv now should be the least value at which the RMSE hits around 1.5147.\n",
        "\n",
        "Taking a look at the first curve, plausible candidates seem to be lie in the range 10-40. Let's plot the validation rmse for this range to make a better choice."
      ],
      "metadata": {
        "id": "hlEU3lWbYD8B"
      }
    },
    {
      "cell_type": "code",
      "source": [
        "lamda_inv = np.linspace(10, 40, 400)\n",
        "Val_RMSE, Train_RMSE = [], []\n",
        "for l_inv in lamda_inv:\n",
        "  # calculate optimum w using Pseudo_Inverse method\n",
        "  w_op = Pseudo_Inverse (x_train, t_train, 1/l_inv)\n",
        "  # calc validation rmse and training rmse\n",
        "  Val_RMSE.append(np.sqrt(MSE_Loss(x_val, t_val, w_op)))\n",
        "  Train_RMSE.append(np.sqrt(MSE_Loss(x_train, t_train, w_op)))"
      ],
      "metadata": {
        "id": "IjC-xLd7YlGV"
      },
      "execution_count": null,
      "outputs": []
    },
    {
      "cell_type": "code",
      "source": [
        "plt.plot(lamda_inv, Val_RMSE, color='red')\n",
        "plt.show()"
      ],
      "metadata": {
        "colab": {
          "base_uri": "https://localhost:8080/",
          "height": 276
        },
        "id": "V0n82BUMY4Ui",
        "outputId": "769d041e-be98-4823-cdcf-cd71084ebc1f"
      },
      "execution_count": null,
      "outputs": [
        {
          "output_type": "display_data",
          "data": {
            "image/png": "[encoded data removed]",
            "text/plain": [
              "<Figure size 432x288 with 1 Axes>"
            ]
          },
          "metadata": {
            "needs_background": "light"
          }
        }
      ]
    },
    {
      "cell_type": "markdown",
      "source": [
        "Now, it seems like we have a lot of choices for lamda. Inclining towards the least plausible choice of 1/lamda where the curve hits around 1.5147, Let's choose 1/lamda = 25 and validae the same"
      ],
      "metadata": {
        "id": "vTcVBtj3ZSvx"
      }
    },
    {
      "cell_type": "code",
      "source": [
        "# calculate optimum w using Pseudo_Inverse method\n",
        "w_op = Pseudo_Inverse (x_train, t_train, 1/l_inv)\n",
        "# calc validation rmse and training rmse\n",
        "np.sqrt(MSE_Loss(x_val, t_val, w_op))"
      ],
      "metadata": {
        "colab": {
          "base_uri": "https://localhost:8080/"
        },
        "id": "bU5DjlFdaK3C",
        "outputId": "db182ac6-58f6-4437-a80d-24ae78abc641"
      },
      "execution_count": null,
      "outputs": [
        {
          "output_type": "execute_result",
          "data": {
            "text/plain": [
              "1.5147753100334513"
            ]
          },
          "metadata": {},
          "execution_count": 325
        }
      ]
    },
    {
      "cell_type": "markdown",
      "source": [
        "Clearly, this works as expected. Lets fix this value for 1/lamda and save and print the final results."
      ],
      "metadata": {
        "id": "lX3MwpaVaT5f"
      }
    },
    {
      "cell_type": "markdown",
      "source": [
        "### **Conclusion**\n",
        "\n",
        "A plausible choice for **Best Lamda** is 1/25 = 0.04 with validation RMSE approximately 1.51477"
      ],
      "metadata": {
        "id": "GZXxSkWqNfyL"
      }
    },
    {
      "cell_type": "code",
      "source": [
        "# save and print the final weight vector, validation rmse and nrmse for Pseuod inverse method\n",
        "lamda_best_pseudo = 1/25\n",
        "w_best_pseudo = Pseudo_Inverse (x_train, t_train, lamda_best_pseudo)\n",
        "best_val_RMSE_pseudo = np.sqrt(MSE_Loss(x_val, t_val, w_best_pseudo))\n",
        "best_val_NRMSE_pseudo = NRMSE_Metric(x_val, t_val, w_best_pseudo)\n",
        "\n",
        "print('optimum w :\\n', w_best_pseudo)\n",
        "print('\\nValidation RMSE : ', best_val_RMSE_pseudo)\n",
        "print('Validation NRMSE : ', best_val_NRMSE_pseudo)"
      ],
      "metadata": {
        "colab": {
          "base_uri": "https://localhost:8080/"
        },
        "id": "nbEDa5zuMG0z",
        "outputId": "b654b22e-eeee-459f-dac3-58928be97f39"
      },
      "execution_count": null,
      "outputs": [
        {
          "output_type": "stream",
          "name": "stdout",
          "text": [
            "optimum w :\n",
            " [ 4.42070681e-01  8.13953552e-02  5.12325497e-01 -1.48612276e-01\n",
            "  2.02737855e+00  1.37015493e-01 -3.69194512e-01  2.71529778e-01\n",
            " -4.01522703e-01 -1.21480830e-01 -1.57017882e-01 -3.06816782e-01\n",
            " -8.77656272e-02  1.97705773e-01 -3.20437568e-02  1.82600463e-02\n",
            " -7.65143537e-02 -1.26840047e-01 -2.28897495e-01  2.83805551e-01\n",
            "  1.05799945e-01  3.02274985e+01]\n",
            "\n",
            "Validation RMSE :  1.5148060468067912\n",
            "Validation NRMSE :  0.402590350284845\n"
          ]
        }
      ]
    },
    {
      "cell_type": "markdown",
      "source": [
        "## **The Best Models so far**\n",
        "Following are thre best models tabulated along with the relevant details of loss functions and minimization technique."
      ],
      "metadata": {
        "id": "fQPjSd5jOOzo"
      }
    },
    {
      "cell_type": "code",
      "source": [
        "table_models = {'Loss Function': ['L2', 'L1', 'L2'], 'Optimization method': ['Gradient Descent', 'Gradient Descent', 'Pseudo inverse (Analytical soln)'], \n",
        "                'Best Lamda':[lamda_best_L2, lamda_best_L1, lamda_best_pseudo ], 'Best Validation RMSE': [best_val_RMSE_L2, best_val_RMSE_L1, best_val_RMSE_pseudo]}\n",
        "df_best_models = pd.DataFrame(table_models)\n",
        "df_best_models"
      ],
      "metadata": {
        "colab": {
          "base_uri": "https://localhost:8080/",
          "height": 143
        },
        "id": "Vopbv0zwOfJt",
        "outputId": "465a0580-3c4e-4465-88b2-b0ffc375cfdf"
      },
      "execution_count": null,
      "outputs": [
        {
          "output_type": "execute_result",
          "data": {
            "text/html": [
              "\n",
              "  <div id=\"df-e6417ef3-a4f8-44b3-8e78-9d754bd0ee65\">\n",
              "    <div class=\"colab-df-container\">\n",
              "      <div>\n",
              "<style scoped>\n",
              "    .dataframe tbody tr th:only-of-type {\n",
              "        vertical-align: middle;\n",
              "    }\n",
              "\n",
              "    .dataframe tbody tr th {\n",
              "        vertical-align: top;\n",
              "    }\n",
              "\n",
              "    .dataframe thead th {\n",
              "        text-align: right;\n",
              "    }\n",
              "</style>\n",
              "<table border=\"1\" class=\"dataframe\">\n",
              "  <thead>\n",
              "    <tr style=\"text-align: right;\">\n",
              "      <th></th>\n",
              "      <th>Loss Function</th>\n",
              "      <th>Optimization method</th>\n",
              "      <th>Best Lamda</th>\n",
              "      <th>Best Validation RMSE</th>\n",
              "    </tr>\n",
              "  </thead>\n",
              "  <tbody>\n",
              "    <tr>\n",
              "      <th>0</th>\n",
              "      <td>L2</td>\n",
              "      <td>Gradient Descent</td>\n",
              "      <td>0.090164</td>\n",
              "      <td>1.486896</td>\n",
              "    </tr>\n",
              "    <tr>\n",
              "      <th>1</th>\n",
              "      <td>L1</td>\n",
              "      <td>Gradient Descent</td>\n",
              "      <td>0.047115</td>\n",
              "      <td>1.492034</td>\n",
              "    </tr>\n",
              "    <tr>\n",
              "      <th>2</th>\n",
              "      <td>L2</td>\n",
              "      <td>Pseudo inverse (Analytical soln)</td>\n",
              "      <td>0.040000</td>\n",
              "      <td>1.514806</td>\n",
              "    </tr>\n",
              "  </tbody>\n",
              "</table>\n",
              "</div>\n",
              "      <button class=\"colab-df-convert\" onclick=\"convertToInteractive('df-e6417ef3-a4f8-44b3-8e78-9d754bd0ee65')\"\n",
              "              title=\"Convert this dataframe to an interactive table.\"\n",
              "              style=\"display:none;\">\n",
              "        \n",
              "  <svg xmlns=\"http://www.w3.org/2000/svg\" height=\"24px\"viewBox=\"0 0 24 24\"\n",
              "       width=\"24px\">\n",
              "    <path d=\"M0 0h24v24H0V0z\" fill=\"none\"/>\n",
              "    <path d=\"M18.56 5.44l.94 2.06.94-2.06 2.06-.94-2.06-.94-.94-2.06-.94 2.06-2.06.94zm-11 1L8.5 8.5l.94-2.06 2.06-.94-2.06-.94L8.5 2.5l-.94 2.06-2.06.94zm10 10l.94 2.06.94-2.06 2.06-.94-2.06-.94-.94-2.06-.94 2.06-2.06.94z\"/><path d=\"M17.41 7.96l-1.37-1.37c-.4-.4-.92-.59-1.43-.59-.52 0-1.04.2-1.43.59L10.3 9.45l-7.72 7.72c-.78.78-.78 2.05 0 2.83L4 21.41c.39.39.9.59 1.41.59.51 0 1.02-.2 1.41-.59l7.78-7.78 2.81-2.81c.8-.78.8-2.07 0-2.86zM5.41 20L4 18.59l7.72-7.72 1.47 1.35L5.41 20z\"/>\n",
              "  </svg>\n",
              "      </button>\n",
              "      \n",
              "  <style>\n",
              "    .colab-df-container {\n",
              "      display:flex;\n",
              "      flex-wrap:wrap;\n",
              "      gap: 12px;\n",
              "    }\n",
              "\n",
              "    .colab-df-convert {\n",
              "      background-color: #E8F0FE;\n",
              "      border: none;\n",
              "      border-radius: 50%;\n",
              "      cursor: pointer;\n",
              "      display: none;\n",
              "      fill: #1967D2;\n",
              "      height: 32px;\n",
              "      padding: 0 0 0 0;\n",
              "      width: 32px;\n",
              "    }\n",
              "\n",
              "    .colab-df-convert:hover {\n",
              "      background-color: #E2EBFA;\n",
              "      box-shadow: 0px 1px 2px rgba(60, 64, 67, 0.3), 0px 1px 3px 1px rgba(60, 64, 67, 0.15);\n",
              "      fill: #174EA6;\n",
              "    }\n",
              "\n",
              "    [theme=dark] .colab-df-convert {\n",
              "      background-color: #3B4455;\n",
              "      fill: #D2E3FC;\n",
              "    }\n",
              "\n",
              "    [theme=dark] .colab-df-convert:hover {\n",
              "      background-color: #434B5C;\n",
              "      box-shadow: 0px 1px 3px 1px rgba(0, 0, 0, 0.15);\n",
              "      filter: drop-shadow(0px 1px 2px rgba(0, 0, 0, 0.3));\n",
              "      fill: #FFFFFF;\n",
              "    }\n",
              "  </style>\n",
              "\n",
              "      <script>\n",
              "        const buttonEl =\n",
              "          document.querySelector('#df-e6417ef3-a4f8-44b3-8e78-9d754bd0ee65 button.colab-df-convert');\n",
              "        buttonEl.style.display =\n",
              "          google.colab.kernel.accessAllowed ? 'block' : 'none';\n",
              "\n",
              "        async function convertToInteractive(key) {\n",
              "          const element = document.querySelector('#df-e6417ef3-a4f8-44b3-8e78-9d754bd0ee65');\n",
              "          const dataTable =\n",
              "            await google.colab.kernel.invokeFunction('convertToInteractive',\n",
              "                                                     [key], {});\n",
              "          if (!dataTable) return;\n",
              "\n",
              "          const docLinkHtml = 'Like what you see? Visit the ' +\n",
              "            '<a target=\"_blank\" href=https://colab.research.google.com/notebooks/data_table.ipynb>data table notebook</a>'\n",
              "            + ' to learn more about interactive tables.';\n",
              "          element.innerHTML = '';\n",
              "          dataTable['output_type'] = 'display_data';\n",
              "          await google.colab.output.renderOutput(dataTable, element);\n",
              "          const docLink = document.createElement('div');\n",
              "          docLink.innerHTML = docLinkHtml;\n",
              "          element.appendChild(docLink);\n",
              "        }\n",
              "      </script>\n",
              "    </div>\n",
              "  </div>\n",
              "  "
            ],
            "text/plain": [
              "  Loss Function  ... Best Validation RMSE\n",
              "0            L2  ...             1.486896\n",
              "1            L1  ...             1.492034\n",
              "2            L2  ...             1.514806\n",
              "\n",
              "[3 rows x 4 columns]"
            ]
          },
          "metadata": {},
          "execution_count": 327
        }
      ]
    },
    {
      "cell_type": "markdown",
      "source": [
        "## **Best Model**\n",
        "\n",
        "Clearly, **\"L2 loss function\"** ***optimized by Gradient Descent*** gives the best validation RMSE (**1.486**)and thus the best model.\n",
        "\n",
        "Next we use the weight vector **\"w_best_L2\"** for prediction on test data."
      ],
      "metadata": {
        "id": "YxCxwTpFTkpP"
      }
    },
    {
      "cell_type": "markdown",
      "source": [
        "# Predictions on **Test Data**\n",
        "\n",
        "---"
      ],
      "metadata": {
        "id": "HUrcFATJ0bku"
      }
    },
    {
      "cell_type": "code",
      "source": [
        "# read test data from the given link\n",
        "df_test = pd.read_csv(\"https://www.ee.iitb.ac.in/~asethi/Dump/TempTest.csv\")"
      ],
      "metadata": {
        "id": "PhR2s5sAUMnd"
      },
      "execution_count": null,
      "outputs": []
    },
    {
      "cell_type": "code",
      "source": [
        "# convert test data to numpy array\n",
        "x_test = np.array(df_test)\n",
        "# normalise the test data\n",
        "x_test_norm = Normalize(x_test)"
      ],
      "metadata": {
        "id": "WRiPVMM5UjnU"
      },
      "execution_count": null,
      "outputs": []
    },
    {
      "cell_type": "code",
      "source": [
        "# Store the test data predictions in Predictions_array\n",
        "Predictions_array = Prediction(x_test_norm, w_best_L2)"
      ],
      "metadata": {
        "id": "xwhqVl99cMLa"
      },
      "execution_count": null,
      "outputs": []
    },
    {
      "cell_type": "code",
      "source": [
        "# Convert the predictions array to a dataframe\n",
        "df_predictions = pd.DataFrame(Predictions_array, columns = ['Next_Tmax'])\n",
        "# write to csv file\n",
        "# df_predictions.to_csv('17d070041_18d070053_1.csv', index = False)"
      ],
      "metadata": {
        "id": "zUXaD_Ckdbzc"
      },
      "execution_count": null,
      "outputs": []
    },
    {
      "cell_type": "markdown",
      "metadata": {
        "deletable": false,
        "editable": false,
        "nbgrader": {
          "cell_type": "markdown",
          "checksum": "de7f27538e4ad9db84b046b2752843f1",
          "grade": false,
          "grade_id": "cell-8a98f665f9567cec",
          "locked": true,
          "schema_version": 3,
          "solution": false,
          "task": false
        },
        "id": "mw3AOqkvmK8I"
      },
      "source": [
        "#**... Part 2 ends.**\n",
        "\n",
        "1. Write the name or roll no.s of friends from outside your group with whom you discussed the assignment here (no penalty for mere discussion without copying code): \n",
        "2. Write the links of sources on the internet referred here (no penalty for mere consultation without copying code): "
      ]
    },
    {
      "cell_type": "markdown",
      "source": [
        "#### Discussion with friends outside the group :\n",
        "\n",
        "* Shailee Suryawanshi : 17D070049"
      ],
      "metadata": {
        "id": "buP_h3CHfzH5"
      }
    },
    {
      "cell_type": "markdown",
      "source": [
        "### References (Part 1)\n",
        "\n",
        "\n",
        "*   Joining two numpy arrays : https://www.geeksforgeeks.org/numpy-concatenate-function-python/\n",
        "*   Vector norm in numpy : https://numpy.org/doc/stable/reference/generated/numpy.linalg.norm.html\n",
        "\n",
        "\n",
        "*   signum function in numpy : https://numpy.org/doc/stable/reference/generated/numpy.sign.html\n",
        "\n",
        "* Conceptual (Gradient descent) : https://towardsdatascience.com/gradient-descent-algorithm-a-deep-dive-cf04e8115f21#:~:text=Gradient%20descent%20(GD)%20is%20an,e.g.%20in%20a%20linear%20regression\n",
        "\n",
        "\n",
        "\n",
        "\n"
      ],
      "metadata": {
        "id": "Fc3t7HZ3BHgz"
      }
    },
    {
      "cell_type": "markdown",
      "source": [
        "### References (Part 2)\n",
        "\n",
        "* Converting pandas DataFrame to numpy array : https://www.geeksforgeeks.org/pandas-dataframe-to_numpy-convert-dataframe-to-numpy-array/\n",
        "\n",
        "* Splitting dataset into Training and Validation : https://stackoverflow.com/questions/38250710/how-to-split-data-into-3-sets-train-validation-and-test\n",
        "\n",
        "*  Convert numpy array to csv file:  https://www.geeksforgeeks.org/convert-a-numpy-array-into-a-csv-file/\n"
      ],
      "metadata": {
        "id": "S5BXylI7CveM"
      }
    }
  ],
  "metadata": {
    "kernelspec": {
      "display_name": "Python 3",
      "language": "python",
      "name": "python3"
    },
    "language_info": {
      "codemirror_mode": {
        "name": "ipython",
        "version": 3
      },
      "file_extension": ".py",
      "mimetype": "text/x-python",
      "name": "python",
      "nbconvert_exporter": "python",
      "pygments_lexer": "ipython3",
      "version": "3.8.3"
    },
    "colab": {
      "name": "17d070041_18d070053_1.ipynb",
      "provenance": [],
      "collapsed_sections": [
        "MDKB3K3AmK7-",
        "MqdqPlfEYavJ",
        "Okydr_hnq4eM",
        "2AZia-kuyFER",
        "plY5NgiVrtFT",
        "ABAtwAb4zfNN"
      ]
    }
  },
  "nbformat": 4,
  "nbformat_minor": 0
}