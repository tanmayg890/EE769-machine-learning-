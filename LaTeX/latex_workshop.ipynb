{
  "cells": [
    {
      "cell_type": "markdown",
      "metadata": {
        "id": "IYDSCsZX_eGf"
      },
      "source": [
        "# Workshop - Introduction to LaTeX "
      ]
    },
    {
      "cell_type": "markdown",
      "metadata": {
        "id": "FzZBEl9N_eGj"
      },
      "source": [
        "## LaTeX Basics\n",
        "\n",
        "### Introduction\n",
        "LaTeX is a typesetting system that allows you to focus on your content instead of formatting - formatting is done separately from entry.\n",
        "\n",
        "You tell LaTeX \"what it is\" not \"how it looks.\"\n",
        "\n",
        "### LaTeX using Overleaf\n",
        "\n",
        "- Create documents via a cloud based account\n",
        "- Source code or rich text format\n",
        "- Collaborating and sharing documents\n",
        "- Versioning and track changes\n",
        "- Templates for a variety of documents and publishers\n",
        "- Link with other tools in your research workflow\n",
        "- Pro account with your berkeley.edu address\n",
        "\n",
        "\n",
        "### Example\n",
        "Look at the template below to get a sense of how Overleaf works. \n",
        "On the left side, the content is written in LaTeX. On the right side, the rendered document.\n",
        "\n",
        "![Template_image](https://github.com/EPS-Libraries-Berkeley/volt/blob/main/LaTeX/images/template.png?raw=1)\n",
        "\n",
        "### Structure of a document\n",
        "\n",
        "| Term | Description | Example |\n",
        "|-|-|-|\n",
        "| Command | Control sequence which performs an action | `\\newpage`|\n",
        "| Preamble | Block of commands that define the type of document you are writing,  the language you are writing in, the packages you would like to use. Comes before \\begin{document}| `\\documentclass{article}`|\n",
        "| Package | Enable you to create bibliographies, insert images and figures, and write formulas. | `\\usepackage{amsmath}` |\n",
        "| Environment | Block of code with specific behavior depending on its type | `\\begin{}` & `\\end{}` |\n",
        "| Body | Content of document enclosed inside an environment | `\\begin{document}` |\n",
        "\n",
        "```{note}\n",
        "* Comments: \n",
        "Use % to create a comment. Nothing on the line after the % will be typeset.\n",
        "\n",
        "* Restricted Characters: \n",
        "Certain symbols require a backslash to appear, like $, &, #, and %.\n",
        "```\n",
        "\n",
        "### Basic Commands\n",
        "\n",
        "* **Bold**: `\\textbf{example}`\n",
        "* *Italics*: `\\textit{example}`\n",
        "* <ins>Underline</ins>: `\\underline{example}`\n",
        "\n",
        "*Font typefaces:* <br>\n",
        "Change font designations in preamble. More information:<br>\n",
        "https://v2.overleaf.com/learn/Font_typefaces\n"
      ]
    },
    {
      "cell_type": "markdown",
      "metadata": {
        "id": "cS1zsFw2_eGl"
      },
      "source": [
        "### Make Title\n",
        "The simplest option for making a title is to use the `\\maketitle` command which draws from the following declarations within the preamble:<br>\n",
        "`\\author`  \n",
        "`\\date`  \n",
        "`\\thanks`  \n",
        "`\\title`"
      ]
    },
    {
      "cell_type": "markdown",
      "metadata": {
        "id": "NFvo8Jg7_eGl"
      },
      "source": [
        "### Basic Math\n",
        "\n",
        "To display math inline with text, place formula or symbol in between $:\n",
        "\n",
        "`$x + y = z$` renders inline: $x + y = z$\n",
        "\n",
        "Display mode `\\[ x + y = z \\]` or `$$ x + y = z $$` will center the equation on its own line:\n",
        "\n",
        "$$x + y = z$$"
      ]
    },
    {
      "cell_type": "markdown",
      "metadata": {
        "id": "ZudkfaXH_eGm"
      },
      "source": [
        "### Lists\n",
        "\n",
        "Use the `\\begin{itemize}...\\end{itemize}` environment to create unnumbered lists.\n",
        "\n",
        "````{panels}\n",
        "\n",
        "```\n",
        "\\begin{itemize}\n",
        "\\item Apples\n",
        "\\item Cherries\n",
        "\\item Oranges\n",
        "\\item Peaches\n",
        "\\item Watermelon\n",
        "\\end{itemize}\n",
        "```\n",
        "---\n",
        "\n",
        "This code results in:\n",
        "\n",
        "- Apples\n",
        "- Cherries\n",
        "- Oranges\n",
        "- Peaches\n",
        "- Watermelon\n",
        "\n",
        "````\n",
        "\n",
        "Use the similar `\\begin{enumerate}...\\end{enumerate}` environment to create numbered lists."
      ]
    },
    {
      "cell_type": "markdown",
      "metadata": {
        "id": "CiSjnqTl_eGn"
      },
      "source": [
        "### Exercise"
      ]
    },
    {
      "cell_type": "markdown",
      "metadata": {
        "id": "ALCsVHOz_eGn"
      },
      "source": [
        "````{card}\n",
        "**Exercise 1: Basic LaTeX Commands**\n",
        "^^^\n",
        "\n",
        "*Objective: Practice several basic LaTeX commands in a new project.* \n",
        "\n",
        "1. Open a new project in [Overleaf](https://www.overleaf.com/edu/berkeley).\n",
        "2. Create Title \n",
        "    - After `\\title`, add \"VOLT LaTeX Basics Assignment\"\n",
        "    - After `\\author`, add your name\n",
        "    - Confirm that the date is correct or edit if needed\n",
        "    - Display **Title** using command `\\maketitle` inserted after `\\begin{document}`\n",
        "3. Add a new section labeled \"Practice\" using the `\\section*` command.\n",
        "4. Add the following paragraph under that section using \"inline\" math commands:\n",
        "\n",
        "We know the initial pressure $P_0 = 7.00 \\times 10^5 Pa$, the initial temperature $T_0 = 18.0 ^{\\circ}C$, and the final temperature $T_f = 35.0 ^{\\circ}C$.\n",
        "\n",
        "5. Add a new section labeled \"California Road Trip Destinations\"\n",
        "6. Make a numbered list of four items, for example:   \n",
        "Yosemite <br/>\n",
        "Big Sur <br/>\n",
        "Lake Tahoe <br/>\n",
        "Death Valley<br/>\n",
        "\n",
        "```{hint}\n",
        "*Commands needed:* `\\section*{}`, `\\times`, `$...$`, `\\begin{enumerate}...\\end{enumerate}`. Degree can be represented several ways such as `$^\\circ$` or `\\degree` (requires the ``\\usepackage{gensymb}``). Subscripts and superscripts are written using the symbols _ and ^. \n",
        "```\n",
        "\n",
        "```{dropdown} **Results**\n",
        "This is how your rendered exercise should appear in Overleaf.\n",
        "![Results](images/VOLT_Basic_Exercises.png)\n",
        "```\n",
        "\n",
        "````"
      ]
    },
    {
      "cell_type": "markdown",
      "metadata": {
        "id": "L54yYzy8_eGo"
      },
      "source": [
        "```{admonition} Questions?\n",
        "Compare your LaTeX code to the <a href=\"https://www.overleaf.com/read/djdcymcpxcxq\">solutions</a> to troubleshoot. \n",
        "```"
      ]
    },
    {
      "cell_type": "markdown",
      "metadata": {
        "id": "P4zR4Pog_eGo"
      },
      "source": [
        "## Mathematics and Equations"
      ]
    },
    {
      "cell_type": "markdown",
      "metadata": {
        "id": "JIJUEZit_eGp"
      },
      "source": [
        "### Simple Operators, Subscripts, Superscripts \\& More\n",
        "\n",
        "To render simple equations, you also need to know syntax and commands for operators, relations, subscripts, superscripts, and fractions.\n",
        "\n",
        "**Operators \\& Relations:**<br/>\n",
        "+, -, =, >, < work as expected. Here are some other commands:\n",
        "\n",
        "| Command | Display | Command | Display |\n",
        "| :---: | :---: | :---: | :---: |\n",
        "| `\\times` | $\\times$ | `\\cdot` | $\\cdot$ |\n",
        "| `\\div` | $\\div$ | `\\pm` | $\\pm$ |\n",
        "| `\\geq` | $\\geq$ | `\\leq` | $\\leq$ |\n",
        "| `\\neq` | $\\neq$ | `\\approx` | $\\approx$ |\n",
        "\n",
        "**Subscript:** use the underscore (\\_) / **Superscript**: use the carret (\\^)\n",
        "```{note}\n",
        "If the subscript or superscript includes more than one character, enclose it in\n",
        "curly brackets--otherwise the command applies only to the first character.\n",
        "```\n",
        "**Example:** `$x^n+1$` gives $x^n+1$ but `$x^{n+1}$` gives $x^{n+1}$\n",
        "\n",
        "**Fractions:**<br /> \n",
        "To display a fraction, use the command `\\frac` followed by the numerator and denominator in curly brackets.\n",
        "\n",
        "**Example:** `\\frac{1}{x}` gives $\\frac{1}{x}$"
      ]
    },
    {
      "cell_type": "markdown",
      "metadata": {
        "id": "Szj90D38_eGp"
      },
      "source": [
        "### Next Steps: Greek Letters, Integrals \\& More"
      ]
    },
    {
      "cell_type": "markdown",
      "metadata": {
        "id": "daNnFhoz_eGp"
      },
      "source": [
        "### Greek Letters\n",
        "\n",
        "Many equations and formulas use Greek letters. The command is simple - just the backslash and the name of the letter. Capitalize the command to get the capital letter. Here are some examples:\n",
        "\n",
        "| Command | Display | Command | Display | Command | Display |\n",
        "| --- | --- | --- | --- | --- | --- |\n",
        "| `\\alpha` | $\\alpha$ | `\\lambda` | $\\lambda$ | `\\rho` | $\\rho$ |\n",
        "| `\\beta` | $\\beta$ | `\\Lambda` | $\\Lambda$ | `\\sigma` | $\\sigma$ |\n",
        "| `\\Gamma` | $\\Gamma$ | `\\mu` | $\\mu$ | `\\Phi` | $\\Phi$ |\n",
        "| `\\delta` | $\\delta$ | `\\pi` | $\\pi$ | `\\omega` | $\\omega$ |\n",
        "| `\\Delta` | $\\Delta$ ||| `\\Omega` | $\\Omega$ |\n",
        "\n",
        "\n",
        "Greek letters that are the same in English are an exception, for example, use A for Alpha, B for Beta, Z for Zeta. For more commands, see the Overleaf <a href=\"https://www.overleaf.com/learn/latex/List_of_Greek_letters_and_math_symbols#Greek_letters\">list of Greek letters</a>.\n",
        "\n",
        "```{admonition} More help with Greek letters and Symbols\n",
        "Apart from hand-coding Greek letters and other symbols, Berkeley's premium subscription allows us to take advantage of the <a href=\"https://www.overleaf.com/blog/new-feature-find-symbols-quicker-with-our-new-symbol-palette-for-premium\">Overleaf Symbol Palette</a>. The Symbol Palette helps you quickly find commonly used symbols, and will also tell you which packages you need to use them. \n",
        "```\n",
        "\n",
        "### Limits \\& Integrals\n",
        "\n",
        "There are also commands for common operations that take upper and lower bounds:\n",
        "\n",
        "````{card}\n",
        "\n",
        "**Limits:**\n",
        "\n",
        "```\n",
        "\\[ \n",
        "lim_{x \\to \\infty} f(x) \n",
        "\\]\n",
        "```\n",
        "\n",
        "results in\n",
        "\n",
        "$$\n",
        "lim_{x \\to \\infty} f(x) \n",
        "$$\n",
        "---\n",
        "**Integrals:**\n",
        "\n",
        "```\n",
        "\\[ \n",
        "\\int_{a}^{b} x^2 dx \n",
        "\\]\n",
        "```\n",
        "\n",
        "results in\n",
        "\n",
        "$$\n",
        "\\int_{a}^{b} x^2 dx \n",
        "$$\n",
        "````"
      ]
    },
    {
      "cell_type": "markdown",
      "metadata": {
        "id": "LRSPS39T_eGq"
      },
      "source": [
        "### More Advanced: Math Packages\n",
        "\n",
        "### *amsmath* \\& *amssymb* Packages\n",
        "\n",
        "LaTeX has many packages that you can use to extend its capabilities. The *amsmath* and *amssymb* packages provide you with additional symbols and commands for structuring equations.\n",
        "\n",
        "To include them, add these commands to the preamble of your LaTeX document:<br/>\n",
        "`\\usepackage{amsmath}`<br/>\n",
        "`\\usepackage{amssymb}`"
      ]
    },
    {
      "cell_type": "markdown",
      "metadata": {
        "id": "n_oKYuzO_eGq"
      },
      "source": [
        "### *amsmath*: Equations Environment\n",
        "\n",
        "Use the `\\begin{equation}...\\end{equation}` command to include a numbered equation in display mode.\n",
        "\n",
        "```\n",
        "\\begin{equation}\n",
        "\\frac{\\partial Q}{\\partial t} = \\frac{\\partial s}{\\partial t}\n",
        "\\end{equation}\n",
        "```\n",
        "\n",
        "results in\n",
        "\n",
        "$$\n",
        "\\begin{equation}\n",
        "\\frac{\\partial Q}{\\partial t} = \\frac{\\partial s}{\\partial t}\n",
        "\\end{equation}\n",
        "$$ (1)\n",
        "\n",
        "```{note}\n",
        "Use ``\\begin{equation*}`` for unnumbered equations.\n",
        "```"
      ]
    },
    {
      "cell_type": "markdown",
      "metadata": {
        "id": "mxNSKlHY_eGq"
      },
      "source": [
        "### Exercise"
      ]
    },
    {
      "cell_type": "markdown",
      "metadata": {
        "id": "OL9VeEK9_eGq"
      },
      "source": [
        "`````{card}\n",
        "**Exercise 2: Mathematical Equations**\n",
        "^^^\n",
        "\n",
        "*Objective: Experiment with mathematical notations in LaTeX.* \n",
        "\n",
        "1. Recreate this text in your document:\n",
        "A quadratic equation is an equation of the form $ax^2 + bx + c = 0$ and such equations can be solved using the quadratic formula:\n",
        "\n",
        "$$\n",
        "x = \\frac{-b \\pm \\sqrt{b^2 - 4ac}}{2a}\n",
        "$$\n",
        "\n",
        "```{hint}\n",
        "Commands needed: `\\frac{}{}`, `\\pm`, `\\sqrt{}`, `\\[...\\]` or `$$...$$`<br>\n",
        "```\n",
        "\n",
        "````{dropdown} **Additional challenges**\n",
        "Recreate this equation in your document:\n",
        "\n",
        "$$\n",
        "i\\hbar\\frac{\\partial}{\\partial t}\\psi = \\hat{H}\\psi\n",
        "$$\n",
        "\n",
        "```{hint}\n",
        "Commands needed: `\\partial`, `\\psi`, `\\hbar`, `\\hat{H}`<br>\n",
        "Packages needed: `\\usepackage{amsmath}`, `\\usepackage{amssymb}`<br>\n",
        "Environment needed: `\\begin{equation*} ... \\end{equation*}`<br>\n",
        "```\n",
        "\n",
        "Recreate this equation in your document:\n",
        "\n",
        "$$\n",
        "\\frac{d\\sigma}{d\\lambda}= \\left|\\frac{2\\mu}{\\hbar^2}\\int_{0}^{\\infty}\\frac{sin(\\Delta kr)}{\\Delta kr}V(r)r^2dr\\right|^2\n",
        "$$\n",
        "\n",
        "```{hint}\n",
        "Commands needed: `\\infty`, `\\sigma`, `\\lambda`, `\\mu`, `\\Delta`, `\\left|`, `\\right|`<br>\n",
        "Environment needed: `\\begin{equation*} ... \\end{equation*}`\n",
        "```\n",
        "````\n",
        "\n",
        "```{dropdown} **Results**\n",
        "This is how your rendered exercise should appear in Overleaf.\n",
        "![Results](images/math_exercises.png)\n",
        "```\n",
        "\n",
        "`````"
      ]
    },
    {
      "cell_type": "markdown",
      "metadata": {
        "id": "wS0wzThs_eGq"
      },
      "source": [
        "## Creating Bibliographies in LaTeX\n",
        "\n",
        "*Objective: Learn the basic commands to create and edit in-text citations and bibliographies*\n",
        "\n",
        "### Getting started with a .bib file\n",
        "\n",
        "In order to include in-text citations and a bibliography, the document needs to refer to a .bib file. <br>\n",
        "There are three ways to include a .bib file in a project in Overleaf.\n",
        "\n",
        "1. Upload your own .bib file that you create or export from a citation manager.\n",
        "2. Link to a URL (.bib)\n",
        "3. Connect your Overleaf account with Mendeley or Zotero. \n",
        "\n",
        "If you are working in a traditional LaTeX editor, locate the .bib file in the directory.\n",
        "\n",
        "### What does a citation in a .bib file look like? \n",
        "\n",
        "![bibkey](https://github.com/EPS-Libraries-Berkeley/volt/blob/main/LaTeX/images/cv_bibentry.png?raw=1)\n",
        "\n",
        "## Bibliography Packages\n",
        "\n",
        "We will use the **biblatex** package to generate in-text citations and bibliographies. **Biblatex** is a flexible package for generating citations.\n",
        "\n",
        "When adding a bibligraphy, you will need to add commands to the preamble. \n",
        "\n",
        "Commands required for the **preamble**:\n",
        "\n",
        "`\\usepackage[backend=biber,style=apa]{biblatex}`\n",
        "\n",
        "The above syntax calls in the biblatex package and the backend (biber), which acts as the interface between the .bib file and the LaTeX document. The term \"apa\" denotes the citation style. This can be changed accordingly.\n",
        "\n",
        "`\\addbibresource{example.bib}`\n",
        "\n",
        "The above command calls in the .bib file, which has the citation information for in-text citations and the bibliography.\n",
        "\n",
        "In an article or book chapter, the command `\\printbibliography` inserts the bibliography, which will contain citations referenced in the text. We will take a slightly different approach in adding references to a CV.\n",
        "\n",
        "Find more information here: https://www.overleaf.com/learn/latex/Bibliography_management_in_LaTeX\n",
        "\n",
        "### In-text citations\n",
        "\n",
        "| Command || Description |\n",
        "| --- | --- | :--- |\n",
        "| `\\cite{}` |→| bare citation command (according to style) |\n",
        "| `\\parencite{}` |→| parenthetical citation |\n",
        "| `\\citeauthor{}` |→| prints author names(s) |\n",
        "| `\\textcite{}` |→| prints authors or editors followed by a citation label enclosed in () |\n",
        "| `\\nocite {*}` |→| prints publication in bibliography without citation |\n",
        "| `\\citeyear{}` |→| prints only the year field |\n",
        "\n",
        "#### Examples \n",
        "\n",
        "| Command || Result |\n",
        "| :--- | --- | :--- |\n",
        "| `\\cite{knyazeva_duplex_2013}`| → | Knyazeva and Pohl 2013 |\n",
        "| `\\parencite{singh_erratum:_2013}` | → | (Singh et al. 2013) |\n",
        "| `\\citeauthor{campbell_how_2011}` | → | Campbell and Cabrera |\n",
        "| `\\textcite{elsabbagh_microstructure_2014}` | → | Elsabbagh, Hamouda, and Taha (2014) |\n"
      ]
    },
    {
      "cell_type": "markdown",
      "metadata": {
        "id": "so8qfbdr_eGr"
      },
      "source": [
        "### Exercise"
      ]
    },
    {
      "cell_type": "markdown",
      "metadata": {
        "id": "2NL2JbkG_eGr"
      },
      "source": [
        "````{card}\n",
        "**Exercise 3: Adding a Bibliography**\n",
        "^^^\n",
        "\n",
        "*Objective: Learn to create, edit or upload a .bib file, use basic citation commands, and display a bibliography.*\n",
        "\n",
        "**Create a .bib file and add references**\n",
        "- Create a new file within your Overleaf project (click on the paper icon in the upper left) and name it references.bib<br>\n",
        "```{image} ./images/references.png\n",
        ":alt: Google Scholar screenshot\n",
        ":width: 400px\n",
        ":align: center\n",
        "``` \n",
        "- Search for these three articles and books in Google Scholar and locate their BibTeX formatted citations.<br>\n",
        "   - 10.1126/science.1214319\n",
        "   - Hydraulic power system analysis\n",
        "   - 10.1103/PhysRevB.100.094418\n",
        "\n",
        "```{image} ./images/scholar_bibtex.png\n",
        ":alt: Google Scholar screenshot\n",
        ":width: 400px\n",
        ":align: center\n",
        "``` \n",
        "\n",
        "- Paste each citation within your .bib file. (No preamble is needed).\n",
        "<br>\n",
        "\n",
        "**Adding a bibliography**\n",
        "- To display bibliography in APA style, add package and style command to preamble:<br>\n",
        "```\n",
        "\\usepackage[backend=biber,style=authoryear]{biblatex}\n",
        "\\addbibresource{references.bib}\n",
        "```\n",
        "- And use these commands within document:<br>\n",
        "`\\printbibliography`<br>\n",
        "`\\nocite{*}` <br>\n",
        "\n",
        "**Citation commands**\n",
        "\n",
        "Try using citation commands to recreate the sentence below:<br>\n",
        "\n",
        "In the example provided, Weber et al. 2012 describes the experiment, but Akers, Gassman, and Smith contradict these conclusions. <br>\n",
        "\n",
        "<em>Commands needed:</em> `\\cite{}`, `\\citeauthor{}`\n",
        "\n",
        "For additional examples and more information, please visit Overleaf's page on [bibliography management in LaTeX](https://www.overleaf.com/learn/latex/Bibliography_management_in_LaTeX)\n",
        "\n",
        "````"
      ]
    },
    {
      "cell_type": "markdown",
      "metadata": {
        "id": "LJHEBADV_eGr"
      },
      "source": [
        "## Figures\n",
        "\n",
        "\n",
        "\n",
        "### Uploading a figure\n",
        "\n",
        "Incorporating images and figures into your Overleaf project is best accomplished by creating your figures, particularly graphs and plots, outside of Overleaf and then importing them into Overleaf. \n",
        "\n",
        "Click on the \"upload\" icon and navigate to the location of your figure.\n",
        "\n",
        "![upload](https://github.com/EPS-Libraries-Berkeley/volt/blob/main/LaTeX/images/tables_figure.png?raw=1)\n",
        "\n",
        "###  Figure Placement \n",
        "\n",
        "Use the following specifiers to adjust the placement of your figures.\n",
        "\n",
        "|Specifier|Permission|\n",
        "|----|:----|\n",
        "|h|Place the float here: approximately, not exactly, at the same point it occurs in the source text|\n",
        "|t|Position at the top of the page|\n",
        "|b|Position at the bottom of the page|\n",
        "|p|Put on a special page for floats only|\n",
        "|!|Override internal parameters LaTeX uses for determining \"good\" float positions|\n",
        "|H|Places the float at precisely the location in the LaTeX code. Requires the float package. This is somewhat equivalent to h!|\n"
      ]
    },
    {
      "cell_type": "markdown",
      "metadata": {
        "id": "6itYElka_eGr"
      },
      "source": [
        "### Exercise"
      ]
    },
    {
      "cell_type": "markdown",
      "metadata": {
        "id": "DZbiIdX-_eGr"
      },
      "source": [
        " `````{card}\n",
        "**Exercise 4: Uploading a Figure**\n",
        "^^^\n",
        "  \n",
        "*Objective: Learn to upload and position figures in Overleaf.*\n",
        "\n",
        "**Upload a figure**\n",
        "- To upload image, choose an image of your own, or find file at:<br>\n",
        "[https://github.com/EPS-Libraries-Berkeley/LaTeX/blob/master/keyboard_cat.png](https://github.com/EPS-Libraries-Berkeley/LaTeX/blob/master/keyboard_cat.png) <br>\n",
        "- Download keyboard_cat.png, and upload file to the Overleaf project.<br>\n",
        "- Place image with these commands:<br>\n",
        "`\\usepackage{graphicx}`<br>\n",
        "`\\includegraphics[width=0.4\\textwidth]{keyboard_cat}`<br>\n",
        "\n",
        "```{image} ./images/keyboard_cat.png\n",
        ":alt: cat\n",
        ":class: bg-primary mb-1\n",
        ":width: 400px\n",
        ":align: center\n",
        "```\n",
        "\n",
        "**Designate figure position**<br>\n",
        "Use b, t, h to see where figure moves. You might need to add additional text in the document to see how the figure placement varies.<br>\n",
        "\n",
        "```\n",
        "\\begin{figure}[b]\n",
        "\\centering\n",
        "\\includegraphics[width=0.6\\textwidth]{keyboard_cat}\n",
        "\\end{figure}\n",
        "```\n",
        "\n",
        "`````"
      ]
    },
    {
      "cell_type": "markdown",
      "metadata": {
        "id": "KntrHY8q_eGs"
      },
      "source": [
        "```{admonition} Questions?\n",
        "Compare your LaTeX code to the <a href=\"https://www.overleaf.com/read/hsjrcdzkndvd\">exercise solutions</a> to troubleshoot. \n",
        "```"
      ]
    },
    {
      "cell_type": "code",
      "execution_count": null,
      "metadata": {
        "id": "h4G_eva__eGs"
      },
      "outputs": [],
      "source": []
    }
  ],
  "metadata": {
    "kernelspec": {
      "display_name": "Python 3 (ipykernel)",
      "language": "python",
      "name": "python3"
    },
    "language_info": {
      "codemirror_mode": {
        "name": "ipython",
        "version": 3
      },
      "file_extension": ".py",
      "mimetype": "text/x-python",
      "name": "python",
      "nbconvert_exporter": "python",
      "pygments_lexer": "ipython3",
      "version": "3.9.7"
    },
    "colab": {
      "provenance": []
    }
  },
  "nbformat": 4,
  "nbformat_minor": 0
}